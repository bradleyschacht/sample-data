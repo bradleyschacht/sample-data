{
    "metadata": {
        "kernelspec": {
            "name": "SQL",
            "display_name": "SQL",
            "language": "sql"
        },
        "language_info": {
            "name": "sql",
            "version": ""
        },
        "kernel_info": {
            "name": "synapse_pyspark"
        },
        "microsoft": {
            "language": "python",
            "ms_spell_check": {
                "ms_spell_check_language": "en"
            }
        },
        "widgets": {},
        "nteract": {
            "version": "nteract-front-end@1.0.0"
        },
        "synapse_widget": {
            "version": "0.1",
            "state": {}
        },
        "spark_compute": {
            "compute_id": "/trident/default"
        },
        "dependencies": {
            "lakehouse": {}
        }
    },
    "nbformat_minor": 2,
    "nbformat": 4,
    "cells": [
        {
            "cell_type": "markdown",
            "source": [
                "# Welcome\n",
                "\n",
                "Welcome to the data prep notebook. For additional information about this dataset and the code please visit [https://github.com/bradleyschacht/sample-data](https://github.com/bradleyschacht/sample-data). Below you will find a list of the activities that need to be completed before running this notebook. \n",
                "\n",
                "Happy coding!\n",
                "\n",
                "1. Attach a lakehouse to this notebook\n",
                "1. Update the values in the **\"Parameters\"** section\n",
                "   - **lakehouse_name** - The name of the lakehouse the notebook is attached to and where the data processing will happen\n",
                "   - **storage_connection_id** - The ID of the connection being used to connect to the ADLS Gen2 account where the source data is stored\n",
                "   - **storage_account_name** - The name of the ADLS Gen2 account where the source data is stored\n",
                "   - **storage_path_root** - The location of the sample dataset inside the ADLS Gen2 account in the format of **/_container_/_folder_/_path_/_here_**\n",
                "   - **create_delta_v_order_disabled** - Specifies if Delta files should be created with V-Order disabled\n",
                "   - **create_delta_v_order_enabled** - Specifies if Delta files should be created with V-Order enabled\n",
                "   - **create_json** - Specifies if JSON files should be created\n",
                "1. If you're feeling lucky, update the values in the **Proceed with caution** section\n",
                "\n"
            ],
            "metadata": {
                "nteract": {
                    "transient": {
                        "deleting": false
                    }
                },
                "azdata_cell_guid": "4b44afa4-9865-4243-909c-02c459923e08"
            }
        },
        {
            "cell_type": "markdown",
            "source": [
                "# Parameters"
            ],
            "metadata": {
                "nteract": {
                    "transient": {
                        "deleting": false
                    }
                },
                "azdata_cell_guid": "e57f111f-4cda-45c6-bc3a-5715cdf36e7c"
            }
        },
        {
            "cell_type": "code",
            "source": [
                "# Define the variables\n",
                "lakehouse_name          = 'Lakehouse_Name_Here'\n",
                "\n",
                "storage_connection_id   = 'xxxxxxxx-xxxx-xxxx-xxxx-xxxxxxxxxxx'\n",
                "storage_account_name    = 'storage_account_name_Here'\n",
                "storage_path_root       = '/container/FolderStructure/TPC-DS'\n",
                "\n",
                "create_delta_v_order_disabled   = True\n",
                "create_delta_v_order_enabled    = True\n",
                "create_json                     = True"
            ],
            "metadata": {
                "jupyter": {
                    "source_hidden": false,
                    "outputs_hidden": false
                },
                "nteract": {
                    "transient": {
                        "deleting": false
                    }
                },
                "azdata_cell_guid": "e55cd1b6-95b5-4d9b-8a49-9e98848a6a56",
                "language": "sql"
            },
            "outputs": [],
            "execution_count": null
        },
        {
            "cell_type": "markdown",
            "source": [
                "# Proceed with caution\n",
                "Only modify the code in this section after fully reviewing the notebook code for downstream impact. \n",
                "\n",
                "This notebook has been configured to work with a specific folder structure. While this section will provide additional flexibility exercise caution when making changes as it could impact other sections of code."
            ],
            "metadata": {
                "nteract": {
                    "transient": {
                        "deleting": false
                    }
                },
                "azdata_cell_guid": "1aed7705-0ac5-4d63-8711-ed5afca8a119"
            }
        },
        {
            "cell_type": "code",
            "source": [
                "# Build the other required variables \n",
                "# !!!!!  Review all changes for downstream impact !!!!! #\n",
                "adls_shortcut_name                          = 'TPC-DS'\n",
                "data_directory_raw                          = 'Files/TPC-DS/GB_001/Raw'\n",
                "data_directory_clean_delta_v_order_disabled = 'Files/TPC-DS/GB_001/Clean/Delta_V_Order_Disabled'\n",
                "data_directory_clean_delta_v_order_enabled  = 'Files/TPC-DS/GB_001/Clean/Delta_V_Order_Enabled'\n",
                "data_directory_clean_json                   = 'Files/TPC-DS/GB_001/Clean/JSON'\n",
                "\n",
                "\n",
                "workspace_id = mssparkutils.runtime.context['currentWorkspaceId']\n",
                "lakehouse_id = mssparkutils.lakehouse.get(lakehouse_name).id"
            ],
            "metadata": {
                "jupyter": {
                    "source_hidden": false,
                    "outputs_hidden": false
                },
                "nteract": {
                    "transient": {
                        "deleting": false
                    }
                },
                "azdata_cell_guid": "579ee650-b139-4d8c-bbbf-58c830e11458",
                "language": "sql"
            },
            "outputs": [],
            "execution_count": null
        },
        {
            "cell_type": "markdown",
            "source": [
                "# The setup"
            ],
            "metadata": {
                "nteract": {
                    "transient": {
                        "deleting": false
                    }
                },
                "azdata_cell_guid": "fb9913c2-cb45-4cab-9861-2aaa98186b6f"
            }
        },
        {
            "cell_type": "code",
            "source": [
                "#Import the relevant libraries\n",
                "import json\n",
                "import requests\n",
                "import time\n",
                "from pyspark.sql.functions import col, when\n",
                "from pyspark.sql.types import *"
            ],
            "metadata": {
                "jupyter": {
                    "source_hidden": false,
                    "outputs_hidden": false
                },
                "nteract": {
                    "transient": {
                        "deleting": false
                    }
                },
                "azdata_cell_guid": "eb6dcaec-e02f-4a50-923a-17700702fcc8",
                "language": "sql"
            },
            "outputs": [],
            "execution_count": null
        },
        {
            "cell_type": "code",
            "source": [
                "def fn_create_lakehouse_shortcut(shortcut_path, shortcut_name, target):\n",
                "    \n",
                "    request_headers = {\n",
                "        \"Authorization\": \"Bearer \" + mssparkutils.credentials.getToken(\"pbi\"),\n",
                "        \"Content-Type\": \"application/json\"\n",
                "    }\n",
                "\n",
                "    request_body = {\n",
                "        \"path\": shortcut_path,\n",
                "        \"name\": shortcut_name,\n",
                "        \"target\": target\n",
                "    }\n",
                "\n",
                "    request_url = f'https://api.fabric.microsoft.com/v1/workspaces/{workspace_id}/items/{lakehouse_id}/shortcuts?shortcutConflictPolicy=Abort'\n",
                "    \n",
                "    if requests.request(method = \"GET\", url = f'https://api.fabric.microsoft.com/v1/workspaces/{workspace_id}/items/{lakehouse_id}/shortcuts/{shortcut_path}/{shortcut_name}', headers = request_headers).status_code == 200:\n",
                "        print('The shortcut already exists')\n",
                "\n",
                "    else:\n",
                "        response = requests.request(method = \"POST\", url = request_url, headers = request_headers, json = request_body)\n",
                "\n",
                "        if response.status_code == 201:\n",
                "            print (f'\\nShortcut created successfully: {shortcut_path}/{shortcut_name}\\n')\n",
                "            #print (f'{request_url} \\n')\n",
                "            #print (f'{request_headers} \\n')\n",
                "            #print (f'{json.dumps(request_body, indent = 3)} \\n')\n",
                "            time.sleep(5)\n",
                "\n",
                "        else:\n",
                "            error_summary = {\n",
                "                'status_code' : response.status_code,\n",
                "                'error_type' : json.loads(response.text)['errorCode'],\n",
                "                'error_code' : json.loads(response.text)['moreDetails'][0]['errorCode'],\n",
                "                'error_message' : json.loads(response.text)['message'],\n",
                "                'request_url' : request_url,\n",
                "                'request_headers' : request_headers,\n",
                "                'request_body' : request_body\n",
                "            }\n",
                "\n",
                "            raise Exception(f'\\n\\nShortcut creation failed\\n\\nError summary:\\n{json.dumps(error_summary, indent = 3)}\\n\\nFull response text:\\n{response.text}')"
            ],
            "metadata": {
                "jupyter": {
                    "source_hidden": false,
                    "outputs_hidden": false
                },
                "nteract": {
                    "transient": {
                        "deleting": false
                    }
                },
                "azdata_cell_guid": "ebbad682-252d-45ad-ba88-5d1537ff314e",
                "language": "sql"
            },
            "outputs": [],
            "execution_count": null
        },
        {
            "cell_type": "code",
            "source": [
                "def fn_process_data (file_name, table_name, dataframe_schema, delta_table_definition):\n",
                "    \n",
                "    #####  Define source and destination location variables  #####\n",
                "    source                                          = f'{data_directory_raw}/{file_name}'\n",
                "    destination_directory_delta_v_order_disabled    = f'{data_directory_clean_delta_v_order_disabled}/{table_name}'\n",
                "    destination_directory_delta_v_order_enabled     = f'{data_directory_clean_delta_v_order_enabled}/{table_name}'\n",
                "    destination_directory_json                      = f'{data_directory_clean_json}/{table_name}'\n",
                "\n",
                "    delta_table_definition_v_order_disabled = delta_table_definition.replace(\"[DELTA_TABLE_LOCATION]\", destination_directory_delta_v_order_disabled)\n",
                "    delta_table_definition_v_order_enabled  = delta_table_definition.replace(\"[DELTA_TABLE_LOCATION]\", destination_directory_delta_v_order_enabled)\n",
                "\n",
                "    #####  Print the variable values to the cell output  #####\n",
                "    print (f'Table Name:                                {table_name}')\n",
                "    print (f'Source File:                               {source}')\n",
                "    print (f'Delta Table Location (V-Order Disabled):   {destination_directory_delta_v_order_disabled}')\n",
                "    print (f'Delta Table Location (V-Order Enabled):    {destination_directory_delta_v_order_enabled}')\n",
                "    print (f'JSON Location:                             {destination_directory_json} \\n')\n",
                "        \n",
                "    #####  Read the files  #####\n",
                "    if create_delta_v_order_disabled == True or create_delta_v_order_enabled == True or create_json == True:\n",
                "        df = spark.read.load(source, format = 'csv', delimiter = '|', header = False, schema = dataframe_schema)\n",
                "\n",
                "    #####  Create the delta table - V-Order Disabled  #####\n",
                "    if create_delta_v_order_disabled == True:\n",
                "            \n",
                "        print (f'{table_name} - Delta - Disabling V-Order on write')\n",
                "        spark.conf.set('spark.sql.parquet.vorder.enabled', 'false')\n",
                "\n",
                "        time.sleep(5)\n",
                "        \n",
                "        print (f'{table_name} - Delta - Dropping the table if it exists')\n",
                "        spark.sql(f'DROP TABLE IF EXISTS {table_name}')\n",
                "\n",
                "        print (f'{table_name} - Delta - Removing the directory if it exists')\n",
                "        if mssparkutils.fs.exists(destination_directory_delta_v_order_disabled):\n",
                "            mssparkutils.fs.rm(destination_directory_delta_v_order_disabled, True)\n",
                "        \n",
                "        print (f'{table_name} - Delta - Creating the table')\n",
                "        spark.sql(delta_table_definition_v_order_disabled)\n",
                "\n",
                "        time.sleep(5)\n",
                "\n",
                "        print (f'{table_name} - Delta - Writing to the table has started')\n",
                "        df.write.format(\"delta\").mode(\"overwrite\").insertInto(table_name)\n",
                "        print (f'{table_name} - Delta - Writing to the table has completed')\n",
                "\n",
                "        print (f'{table_name} - Delta - Dropping the table if it exists \\n')\n",
                "        spark.sql(f'DROP TABLE IF EXISTS {table_name}')\n",
                "\n",
                "        time.sleep(5)\n",
                "\n",
                "    #####  Create the delta table - V-Order Enabled  #####\n",
                "    if create_delta_v_order_enabled == True:\n",
                "\n",
                "        print (f'{table_name} - Delta - Enabling V-Order on write')\n",
                "        spark.conf.set('spark.sql.parquet.vorder.enabled', 'true')\n",
                "\n",
                "        time.sleep(5)\n",
                "        \n",
                "        print (f'{table_name} - Delta - Dropping the table if it exists')\n",
                "        spark.sql(f'DROP TABLE IF EXISTS {table_name}')\n",
                "\n",
                "        print (f'{table_name} - Delta - Removing the directory if it exists')\n",
                "        if mssparkutils.fs.exists(destination_directory_delta_v_order_enabled):\n",
                "            mssparkutils.fs.rm(destination_directory_delta_v_order_enabled, True)\n",
                "        \n",
                "        print (f'{table_name} - Delta - Creating the table')\n",
                "        spark.sql(delta_table_definition_v_order_enabled)\n",
                "\n",
                "        time.sleep(5)\n",
                "\n",
                "        print (f'{table_name} - Delta - Writing to the table has started')\n",
                "        df.write.format(\"delta\").mode(\"overwrite\").insertInto(table_name)\n",
                "        print (f'{table_name} - Delta - Writing to the table has completed')\n",
                "\n",
                "        print (f'{table_name} - Delta - Dropping the table if it exists \\n')\n",
                "        spark.sql(f'DROP TABLE IF EXISTS {table_name}')\n",
                "\n",
                "        time.sleep(5)\n",
                "\n",
                "    #####  Create the JSON files  #####\n",
                "    if create_json == True:\n",
                "        print (f'{table_name} - JSON - Removing the directory if it exists')\n",
                "        if mssparkutils.fs.exists(destination_directory_json):\n",
                "            mssparkutils.fs.rm(destination_directory_json, True)\n",
                "        \n",
                "        print (f'{table_name} - JSON - Writing to the table has started')\n",
                "        df.write.mode('overwrite').json(destination_directory_json)\n",
                "        print (f'{table_name} - JSON - Writing to the table has completed \\n')"
            ],
            "metadata": {
                "jupyter": {
                    "source_hidden": false,
                    "outputs_hidden": false
                },
                "nteract": {
                    "transient": {
                        "deleting": false
                    }
                },
                "azdata_cell_guid": "ce59eaf6-5490-4d4f-83d0-771258f7a32c",
                "language": "sql"
            },
            "outputs": [],
            "execution_count": null
        },
        {
            "cell_type": "code",
            "source": [
                "##### Create the shortcut to the ADLS Gen2 storage account in the files section of the lakehouse  #####\n",
                "target = {\n",
                "    \"adlsGen2\": {\n",
                "        \"location\": f'https://{storage_account_name}.dfs.core.windows.net',\n",
                "        \"subpath\": storage_path_root,\n",
                "        \"connectionId\": storage_connection_id\n",
                "    }\n",
                "}\n",
                "\n",
                "fn_create_lakehouse_shortcut(\n",
                "    shortcut_path ='Files',\n",
                "    shortcut_name = adls_shortcut_name,\n",
                "    target = target\n",
                ")"
            ],
            "metadata": {
                "jupyter": {
                    "source_hidden": false,
                    "outputs_hidden": false
                },
                "nteract": {
                    "transient": {
                        "deleting": false
                    }
                },
                "azdata_cell_guid": "175cfa95-6a9d-4ca0-a075-e60f6cfd6967",
                "language": "sql"
            },
            "outputs": [],
            "execution_count": null
        },
        {
            "cell_type": "markdown",
            "source": [
                "# The data processing"
            ],
            "metadata": {
                "nteract": {
                    "transient": {
                        "deleting": false
                    }
                },
                "azdata_cell_guid": "1731718b-458d-4184-916a-c6bd381d0568"
            }
        },
        {
            "cell_type": "code",
            "source": [
                "#call_center\n",
                "file_name = 'call_center/*.dat'\n",
                "table_name = 'call_center'\n",
                "dataframe_schema = \\\n",
                "\tStructType([ \\\n",
                "\t\t\tStructField(\"cc_call_center_sk\", IntegerType()), \\\n",
                "\t\t\tStructField(\"cc_call_center_id\", StringType()), \\\n",
                "\t\t\tStructField(\"cc_rec_start_date\", DateType()), \\\n",
                "\t\t\tStructField(\"cc_rec_end_date\", DateType()), \\\n",
                "\t\t\tStructField(\"cc_closed_date_sk\", IntegerType()), \\\n",
                "\t\t\tStructField(\"cc_open_date_sk\", IntegerType()), \\\n",
                "\t\t\tStructField(\"cc_name\", StringType()), \\\n",
                "\t\t\tStructField(\"cc_class\", StringType()), \\\n",
                "\t\t\tStructField(\"cc_employees\", IntegerType()), \\\n",
                "\t\t\tStructField(\"cc_sq_ft\", IntegerType()), \\\n",
                "\t\t\tStructField(\"cc_hours\", StringType()), \\\n",
                "\t\t\tStructField(\"cc_manager\", StringType()), \\\n",
                "\t\t\tStructField(\"cc_mkt_id\", IntegerType()), \\\n",
                "\t\t\tStructField(\"cc_mkt_class\", StringType()), \\\n",
                "\t\t\tStructField(\"cc_mkt_desc\", StringType()), \\\n",
                "\t\t\tStructField(\"cc_market_manager\", StringType()), \\\n",
                "\t\t\tStructField(\"cc_division\", IntegerType()), \\\n",
                "\t\t\tStructField(\"cc_division_name\", StringType()), \\\n",
                "\t\t\tStructField(\"cc_company\", IntegerType()), \\\n",
                "\t\t\tStructField(\"cc_company_name\", StringType()), \\\n",
                "\t\t\tStructField(\"cc_street_number\", StringType()), \\\n",
                "\t\t\tStructField(\"cc_street_name\", StringType()), \\\n",
                "\t\t\tStructField(\"cc_street_type\", StringType()), \\\n",
                "\t\t\tStructField(\"cc_suite_number\", StringType()), \\\n",
                "\t\t\tStructField(\"cc_city\", StringType()), \\\n",
                "\t\t\tStructField(\"cc_county\", StringType()), \\\n",
                "\t\t\tStructField(\"cc_state\", StringType()), \\\n",
                "\t\t\tStructField(\"cc_zip\", StringType()), \\\n",
                "\t\t\tStructField(\"cc_country\", StringType()), \\\n",
                "\t\t\tStructField(\"cc_gmt_offset\", DoubleType()), \\\n",
                "\t\t\tStructField(\"cc_tax_percentage\", DoubleType()) \\\n",
                "\t])\n",
                "delta_table_definition = \"\"\"\n",
                "CREATE TABLE call_center\n",
                "    (\n",
                "        cc_call_center_sk         integer               not null,\n",
                "        cc_call_center_id         char(16)              not null,\n",
                "        cc_rec_start_date         date                          ,\n",
                "        cc_rec_end_date           date                          ,\n",
                "        cc_closed_date_sk         integer                       ,\n",
                "        cc_open_date_sk           integer                       ,\n",
                "        cc_name                   varchar(50)                   ,\n",
                "        cc_class                  varchar(50)                   ,\n",
                "        cc_employees              integer                       ,\n",
                "        cc_sq_ft                  integer                       ,\n",
                "        cc_hours                  char(20)                      ,\n",
                "        cc_manager                varchar(40)                   ,\n",
                "        cc_mkt_id                 integer                       ,\n",
                "        cc_mkt_class              char(50)                      ,\n",
                "        cc_mkt_desc               varchar(100)                  ,\n",
                "        cc_market_manager         varchar(40)                   ,\n",
                "        cc_division               integer                       ,\n",
                "        cc_division_name          varchar(50)                   ,\n",
                "        cc_company                integer                       ,\n",
                "        cc_company_name           char(50)                      ,\n",
                "        cc_street_number          char(10)                      ,\n",
                "        cc_street_name            varchar(60)                   ,\n",
                "        cc_street_type            char(15)                      ,\n",
                "        cc_suite_number           char(10)                      ,\n",
                "        cc_city                   varchar(60)                   ,\n",
                "        cc_county                 varchar(30)                   ,\n",
                "        cc_state                  char(2)                       ,\n",
                "        cc_zip                    char(10)                      ,\n",
                "        cc_country                varchar(20)                   ,\n",
                "        cc_gmt_offset             decimal(5,2)                  ,\n",
                "        cc_tax_percentage         decimal(5,2)\n",
                "    )\n",
                "    LOCATION '[DELTA_TABLE_LOCATION]'\n",
                "\"\"\"\n",
                "\n",
                "fn_process_data (file_name, table_name, dataframe_schema, delta_table_definition)"
            ],
            "metadata": {
                "jupyter": {
                    "source_hidden": false,
                    "outputs_hidden": false
                },
                "nteract": {
                    "transient": {
                        "deleting": false
                    }
                },
                "azdata_cell_guid": "cde17609-d1bb-4840-a401-c5c5e19f8f2d",
                "language": "sql"
            },
            "outputs": [],
            "execution_count": null
        },
        {
            "cell_type": "code",
            "source": [
                "#catalog_page\n",
                "file_name = 'catalog_page/*.dat'\n",
                "table_name = 'catalog_page'\n",
                "dataframe_schema = \\\n",
                "\tStructType([ \\\n",
                "\t\t\tStructField(\"cp_catalog_page_sk\", IntegerType()), \\\n",
                "\t\t\tStructField(\"cp_catalog_page_id\", StringType()), \\\n",
                "\t\t\tStructField(\"cp_start_date_sk\", IntegerType()), \\\n",
                "\t\t\tStructField(\"cp_end_date_sk\", IntegerType()), \\\n",
                "\t\t\tStructField(\"cp_department\", StringType()), \\\n",
                "\t\t\tStructField(\"cp_catalog_number\", IntegerType()), \\\n",
                "\t\t\tStructField(\"cp_catalog_page_number\", IntegerType()), \\\n",
                "\t\t\tStructField(\"cp_description\", StringType()), \\\n",
                "\t\t\tStructField(\"cp_type\", StringType()) \\\n",
                "\t])\n",
                "delta_table_definition = \"\"\"\n",
                "CREATE TABLE catalog_page\n",
                "    (\n",
                "        cp_catalog_page_sk        integer               not null,\n",
                "        cp_catalog_page_id        char(16)              not null,\n",
                "        cp_start_date_sk          integer                       ,\n",
                "        cp_end_date_sk            integer                       ,\n",
                "        cp_department             varchar(50)                   ,\n",
                "        cp_catalog_number         integer                       ,\n",
                "        cp_catalog_page_number    integer                       ,\n",
                "        cp_description            varchar(100)                  ,\n",
                "        cp_type                   varchar(100)\n",
                "    )\n",
                "    LOCATION '[DELTA_TABLE_LOCATION]'\n",
                "\"\"\"\n",
                "\n",
                "fn_process_data (file_name, table_name, dataframe_schema, delta_table_definition)"
            ],
            "metadata": {
                "jupyter": {
                    "source_hidden": false,
                    "outputs_hidden": false
                },
                "nteract": {
                    "transient": {
                        "deleting": false
                    }
                },
                "azdata_cell_guid": "cae325e7-53ac-4ca6-9a20-4bedeadfe8c7",
                "language": "sql"
            },
            "outputs": [],
            "execution_count": null
        },
        {
            "cell_type": "code",
            "source": [
                "# catalog_returns\n",
                "file_name = 'catalog_returns/*.dat'\n",
                "table_name = 'catalog_returns'\n",
                "dataframe_schema = \\\n",
                "\tStructType([ \\\n",
                "\t\t\tStructField(\"cr_returned_date_sk\", IntegerType()), \\\n",
                "\t\t\tStructField(\"cr_returned_time_sk\", IntegerType()), \\\n",
                "\t\t\tStructField(\"cr_item_sk\", IntegerType()), \\\n",
                "\t\t\tStructField(\"cr_refunded_customer_sk\", IntegerType()), \\\n",
                "\t\t\tStructField(\"cr_refunded_cdemo_sk\", IntegerType()), \\\n",
                "\t\t\tStructField(\"cr_refunded_hdemo_sk\", IntegerType()), \\\n",
                "\t\t\tStructField(\"cr_refunded_addr_sk\", IntegerType()), \\\n",
                "\t\t\tStructField(\"cr_returning_customer_sk\", IntegerType()), \\\n",
                "\t\t\tStructField(\"cr_returning_cdemo_sk\", IntegerType()), \\\n",
                "\t\t\tStructField(\"cr_returning_hdemo_sk\", IntegerType()), \\\n",
                "\t\t\tStructField(\"cr_returning_addr_sk\", IntegerType()), \\\n",
                "\t\t\tStructField(\"cr_call_center_sk\", IntegerType()), \\\n",
                "\t\t\tStructField(\"cr_catalog_page_sk\", IntegerType()), \\\n",
                "\t\t\tStructField(\"cr_ship_mode_sk\", IntegerType()), \\\n",
                "\t\t\tStructField(\"cr_warehouse_sk\", IntegerType()), \\\n",
                "\t\t\tStructField(\"cr_reason_sk\", IntegerType()), \\\n",
                "\t\t\tStructField(\"cr_order_number\", IntegerType()), \\\n",
                "\t\t\tStructField(\"cr_return_quantity\", IntegerType()), \\\n",
                "\t\t\tStructField(\"cr_return_amount\", DoubleType()), \\\n",
                "\t\t\tStructField(\"cr_return_tax\", DoubleType()), \\\n",
                "\t\t\tStructField(\"cr_return_amt_inc_tax\", DoubleType()), \\\n",
                "\t\t\tStructField(\"cr_fee\", DoubleType()), \\\n",
                "\t\t\tStructField(\"cr_return_ship_cost\", DoubleType()), \\\n",
                "\t\t\tStructField(\"cr_refunded_cash\", DoubleType()), \\\n",
                "\t\t\tStructField(\"cr_reversed_charge\", DoubleType()), \\\n",
                "\t\t\tStructField(\"cr_store_credit\", DoubleType()), \\\n",
                "\t\t\tStructField(\"cr_net_loss\", DoubleType()) \\\n",
                "\t])\n",
                "delta_table_definition = \"\"\"\n",
                "CREATE TABLE catalog_returns\n",
                "\t(\n",
                "        cr_returned_date_sk       integer                       ,\n",
                "        cr_returned_time_sk       integer                       ,\n",
                "        cr_item_sk                integer               not null,\n",
                "        cr_refunded_customer_sk   integer                       ,\n",
                "        cr_refunded_cdemo_sk      integer                       ,\n",
                "        cr_refunded_hdemo_sk      integer                       ,\n",
                "        cr_refunded_addr_sk       integer                       ,\n",
                "        cr_returning_customer_sk  integer                       ,\n",
                "        cr_returning_cdemo_sk     integer                       ,\n",
                "        cr_returning_hdemo_sk     integer                       ,\n",
                "        cr_returning_addr_sk      integer                       ,\n",
                "        cr_call_center_sk         integer                       ,\n",
                "        cr_catalog_page_sk        integer                       ,\n",
                "        cr_ship_mode_sk           integer                       ,\n",
                "        cr_warehouse_sk           integer                       ,\n",
                "        cr_reason_sk              integer                       ,\n",
                "        cr_order_number           integer               not null,\n",
                "        cr_return_quantity        integer                       ,\n",
                "        cr_return_amount          decimal(7,2)                  ,\n",
                "        cr_return_tax             decimal(7,2)                  ,\n",
                "        cr_return_amt_inc_tax     decimal(7,2)                  ,\n",
                "        cr_fee                    decimal(7,2)                  ,\n",
                "        cr_return_ship_cost       decimal(7,2)                  ,\n",
                "        cr_refunded_cash          decimal(7,2)                  ,\n",
                "        cr_reversed_charge        decimal(7,2)                  ,\n",
                "        cr_store_credit           decimal(7,2)                  ,\n",
                "        cr_net_loss               decimal(7,2)                 \n",
                "\t)\n",
                "    LOCATION '[DELTA_TABLE_LOCATION]'\n",
                "\"\"\"\n",
                "\n",
                "fn_process_data (file_name, table_name, dataframe_schema, delta_table_definition)"
            ],
            "metadata": {
                "jupyter": {
                    "source_hidden": false,
                    "outputs_hidden": false
                },
                "nteract": {
                    "transient": {
                        "deleting": false
                    }
                },
                "azdata_cell_guid": "e8bc51e5-39fa-4449-8746-2722c977f791",
                "language": "sql"
            },
            "outputs": [],
            "execution_count": null
        },
        {
            "cell_type": "code",
            "source": [
                "# catalog_sales\n",
                "file_name = 'catalog_sales/*.dat'\n",
                "table_name = 'catalog_sales'\n",
                "dataframe_schema = \\\n",
                "\tStructType([ \\\n",
                "\t\t\tStructField(\"cs_sold_date_sk\", IntegerType()), \\\n",
                "\t\t\tStructField(\"cs_sold_time_sk\", IntegerType()), \\\n",
                "\t\t\tStructField(\"cs_ship_date_sk\", IntegerType()), \\\n",
                "\t\t\tStructField(\"cs_bill_customer_sk\", IntegerType()), \\\n",
                "\t\t\tStructField(\"cs_bill_cdemo_sk\", IntegerType()), \\\n",
                "\t\t\tStructField(\"cs_bill_hdemo_sk\", IntegerType()), \\\n",
                "\t\t\tStructField(\"cs_bill_addr_sk\", IntegerType()), \\\n",
                "\t\t\tStructField(\"cs_ship_customer_sk\", IntegerType()), \\\n",
                "\t\t\tStructField(\"cs_ship_cdemo_sk\", IntegerType()), \\\n",
                "\t\t\tStructField(\"cs_ship_hdemo_sk\", IntegerType()), \\\n",
                "\t\t\tStructField(\"cs_ship_addr_sk\", IntegerType()), \\\n",
                "\t\t\tStructField(\"cs_call_center_sk\", IntegerType()), \\\n",
                "\t\t\tStructField(\"cs_catalog_page_sk\", IntegerType()), \\\n",
                "\t\t\tStructField(\"cs_ship_mode_sk\", IntegerType()), \\\n",
                "\t\t\tStructField(\"cs_warehouse_sk\", IntegerType()), \\\n",
                "\t\t\tStructField(\"cs_item_sk\", IntegerType()), \\\n",
                "\t\t\tStructField(\"cs_promo_sk\", IntegerType()), \\\n",
                "\t\t\tStructField(\"cs_order_number\", IntegerType()), \\\n",
                "\t\t\tStructField(\"cs_quantity\", IntegerType()), \\\n",
                "\t\t\tStructField(\"cs_wholesale_cost\", DoubleType()), \\\n",
                "\t\t\tStructField(\"cs_list_price\", DoubleType()), \\\n",
                "\t\t\tStructField(\"cs_sales_price\", DoubleType()), \\\n",
                "\t\t\tStructField(\"cs_ext_discount_amt\", DoubleType()), \\\n",
                "\t\t\tStructField(\"cs_ext_sales_price\", DoubleType()), \\\n",
                "\t\t\tStructField(\"cs_ext_wholesale_cost\", DoubleType()), \\\n",
                "\t\t\tStructField(\"cs_ext_list_price\", DoubleType()), \\\n",
                "\t\t\tStructField(\"cs_ext_tax\", DoubleType()), \\\n",
                "\t\t\tStructField(\"cs_coupon_amt\", DoubleType()), \\\n",
                "\t\t\tStructField(\"cs_ext_ship_cost\", DoubleType()), \\\n",
                "\t\t\tStructField(\"cs_net_paid\", DoubleType()), \\\n",
                "\t\t\tStructField(\"cs_net_paid_inc_tax\", DoubleType()), \\\n",
                "\t\t\tStructField(\"cs_net_paid_inc_ship\", DoubleType()), \\\n",
                "\t\t\tStructField(\"cs_net_paid_inc_ship_tax\", DoubleType()), \\\n",
                "\t\t\tStructField(\"cs_net_profit\", DoubleType()) \\\n",
                "\t])\n",
                "delta_table_definition = \"\"\"\n",
                "CREATE TABLE catalog_sales\n",
                "\t(\n",
                "        cs_sold_date_sk           integer                       ,\n",
                "        cs_sold_time_sk           integer                       ,\n",
                "        cs_ship_date_sk           integer                       ,\n",
                "        cs_bill_customer_sk       integer                       ,\n",
                "        cs_bill_cdemo_sk          integer                       ,\n",
                "        cs_bill_hdemo_sk          integer                       ,\n",
                "        cs_bill_addr_sk           integer                       ,\n",
                "        cs_ship_customer_sk       integer                       ,\n",
                "        cs_ship_cdemo_sk          integer                       ,\n",
                "        cs_ship_hdemo_sk          integer                       ,\n",
                "        cs_ship_addr_sk           integer                       ,\n",
                "        cs_call_center_sk         integer                       ,\n",
                "        cs_catalog_page_sk        integer                       ,\n",
                "        cs_ship_mode_sk           integer                       ,\n",
                "        cs_warehouse_sk           integer                       ,\n",
                "        cs_item_sk                integer               not null,\n",
                "        cs_promo_sk               integer                       ,\n",
                "        cs_order_number           integer               not null,\n",
                "        cs_quantity               integer                       ,\n",
                "        cs_wholesale_cost         decimal(7,2)                  ,\n",
                "        cs_list_price             decimal(7,2)                  ,\n",
                "        cs_sales_price            decimal(7,2)                  ,\n",
                "        cs_ext_discount_amt       decimal(7,2)                  ,\n",
                "        cs_ext_sales_price        decimal(7,2)                  ,\n",
                "        cs_ext_wholesale_cost     decimal(7,2)                  ,\n",
                "        cs_ext_list_price         decimal(7,2)                  ,\n",
                "        cs_ext_tax                decimal(7,2)                  ,\n",
                "        cs_coupon_amt             decimal(7,2)                  ,\n",
                "        cs_ext_ship_cost          decimal(7,2)                  ,\n",
                "        cs_net_paid               decimal(7,2)                  ,\n",
                "        cs_net_paid_inc_tax       decimal(7,2)                  ,\n",
                "        cs_net_paid_inc_ship      decimal(7,2)                  ,\n",
                "        cs_net_paid_inc_ship_tax  decimal(7,2)                  ,\n",
                "        cs_net_profit             decimal(7,2)                  \n",
                "\t)\n",
                "\tLOCATION '[DELTA_TABLE_LOCATION]'\n",
                "\"\"\"\n",
                "\n",
                "fn_process_data (file_name, table_name, dataframe_schema, delta_table_definition)"
            ],
            "metadata": {
                "jupyter": {
                    "source_hidden": false,
                    "outputs_hidden": false
                },
                "nteract": {
                    "transient": {
                        "deleting": false
                    }
                },
                "azdata_cell_guid": "449f99f0-3102-49f6-bd6f-9896f9c8e62f",
                "language": "sql"
            },
            "outputs": [],
            "execution_count": null
        },
        {
            "cell_type": "code",
            "source": [
                "# customer\n",
                "file_name = 'customer/*.dat'\n",
                "table_name = 'customer'\n",
                "dataframe_schema = \\\n",
                "\tStructType([ \\\n",
                "\t\t\tStructField(\"c_customer_sk\", IntegerType()), \\\n",
                "\t\t\tStructField(\"c_customer_id\", StringType()), \\\n",
                "\t\t\tStructField(\"c_current_cdemo_sk\", IntegerType()), \\\n",
                "\t\t\tStructField(\"c_current_hdemo_sk\", IntegerType()), \\\n",
                "\t\t\tStructField(\"c_current_addr_sk\", IntegerType()), \\\n",
                "\t\t\tStructField(\"c_first_shipto_date_sk\", IntegerType()), \\\n",
                "\t\t\tStructField(\"c_first_sales_date_sk\", IntegerType()), \\\n",
                "\t\t\tStructField(\"c_salutation\", StringType()), \\\n",
                "\t\t\tStructField(\"c_first_name\", StringType()), \\\n",
                "\t\t\tStructField(\"c_last_name\", StringType()), \\\n",
                "\t\t\tStructField(\"c_preferred_cust_flag\", StringType()), \\\n",
                "\t\t\tStructField(\"c_birth_day\", IntegerType()), \\\n",
                "\t\t\tStructField(\"c_birth_month\", IntegerType()), \\\n",
                "\t\t\tStructField(\"c_birth_year\", IntegerType()), \\\n",
                "\t\t\tStructField(\"c_birth_country\", StringType()), \\\n",
                "\t\t\tStructField(\"c_login\", StringType()), \\\n",
                "\t\t\tStructField(\"c_email_address\", StringType()), \\\n",
                "\t\t\tStructField(\"c_last_review_date\", StringType()) \\\n",
                "\t])\n",
                "delta_table_definition = \"\"\"\n",
                "CREATE TABLE customer\n",
                "\t(\n",
                "        c_customer_sk             integer               not null,\n",
                "        c_customer_id             char(16)              not null,\n",
                "        c_current_cdemo_sk        integer                       ,\n",
                "        c_current_hdemo_sk        integer                       ,\n",
                "        c_current_addr_sk         integer                       ,\n",
                "        c_first_shipto_date_sk    integer                       ,\n",
                "        c_first_sales_date_sk     integer                       ,\n",
                "        c_salutation              char(10)                      ,\n",
                "        c_first_name              char(20)                      ,\n",
                "        c_last_name               char(30)                      ,\n",
                "        c_preferred_cust_flag     char(1)                       ,\n",
                "        c_birth_day               integer                       ,\n",
                "        c_birth_month             integer                       ,\n",
                "        c_birth_year              integer                       ,\n",
                "        c_birth_country           varchar(20)                   ,\n",
                "        c_login                   char(13)                      ,\n",
                "        c_email_address           char(50)                      ,\n",
                "        c_last_review_date        char(10)                      \n",
                "\t)\n",
                "\tLOCATION '[DELTA_TABLE_LOCATION]'\n",
                "\"\"\"\n",
                "\n",
                "fn_process_data (file_name, table_name, dataframe_schema, delta_table_definition)"
            ],
            "metadata": {
                "jupyter": {
                    "source_hidden": false,
                    "outputs_hidden": false
                },
                "nteract": {
                    "transient": {
                        "deleting": false
                    }
                },
                "azdata_cell_guid": "11c2ec6b-3350-4981-a4b0-d8a1b0664947",
                "language": "sql"
            },
            "outputs": [],
            "execution_count": null
        },
        {
            "cell_type": "code",
            "source": [
                "# customer_address\n",
                "file_name = 'customer_address/*.dat'\n",
                "table_name = 'customer_address'\n",
                "dataframe_schema = \\\n",
                "\tStructType([ \\\n",
                "\t\t\tStructField(\"ca_address_sk\", IntegerType()), \\\n",
                "\t\t\tStructField(\"ca_address_id\", StringType()), \\\n",
                "\t\t\tStructField(\"ca_street_number\", StringType()), \\\n",
                "\t\t\tStructField(\"ca_street_name\", StringType()), \\\n",
                "\t\t\tStructField(\"ca_street_type\", StringType()), \\\n",
                "\t\t\tStructField(\"ca_suite_number\", StringType()), \\\n",
                "\t\t\tStructField(\"ca_city\", StringType()), \\\n",
                "\t\t\tStructField(\"ca_county\", StringType()), \\\n",
                "\t\t\tStructField(\"ca_state\", StringType()), \\\n",
                "\t\t\tStructField(\"ca_zip\", StringType()), \\\n",
                "\t\t\tStructField(\"ca_country\", StringType()), \\\n",
                "\t\t\tStructField(\"ca_gmt_offset\", DoubleType()), \\\n",
                "\t\t\tStructField(\"ca_location_type\", StringType()) \\\n",
                "\t])\n",
                "delta_table_definition = \"\"\"\n",
                "CREATE TABLE customer_address\n",
                "\t(\n",
                "        ca_address_sk             integer               not null,\n",
                "        ca_address_id             char(16)              not null,\n",
                "        ca_street_number          char(10)                      ,\n",
                "        ca_street_name            varchar(60)                   ,\n",
                "        ca_street_type            char(15)                      ,\n",
                "        ca_suite_number           char(10)                      ,\n",
                "        ca_city                   varchar(60)                   ,\n",
                "        ca_county                 varchar(30)                   ,\n",
                "        ca_state                  char(2)                       ,\n",
                "        ca_zip                    char(10)                      ,\n",
                "        ca_country                varchar(20)                   ,\n",
                "        ca_gmt_offset             decimal(5,2)                  ,\n",
                "        ca_location_type          char(20)                      \n",
                "\t)\n",
                "\tLOCATION '[DELTA_TABLE_LOCATION]'\n",
                "\"\"\"\n",
                "\n",
                "fn_process_data (file_name, table_name, dataframe_schema, delta_table_definition)"
            ],
            "metadata": {
                "jupyter": {
                    "source_hidden": false,
                    "outputs_hidden": false
                },
                "nteract": {
                    "transient": {
                        "deleting": false
                    }
                },
                "azdata_cell_guid": "53e80faf-a57e-4196-a65e-09b7ae884a1b",
                "language": "sql"
            },
            "outputs": [],
            "execution_count": null
        },
        {
            "cell_type": "code",
            "source": [
                "# customer_demographics\n",
                "file_name = 'customer_demographics/*.dat'\n",
                "table_name = 'customer_demographics'\n",
                "dataframe_schema = \\\n",
                "\tStructType([ \\\n",
                "\t\t\tStructField(\"cd_demo_sk\", IntegerType()), \\\n",
                "\t\t\tStructField(\"cd_gender\", StringType()), \\\n",
                "\t\t\tStructField(\"cd_marital_status\", StringType()), \\\n",
                "\t\t\tStructField(\"cd_education_status\", StringType()), \\\n",
                "\t\t\tStructField(\"cd_purchase_estimate\", IntegerType()), \\\n",
                "\t\t\tStructField(\"cd_credit_rating\", StringType()), \\\n",
                "\t\t\tStructField(\"cd_dep_count\", IntegerType()), \\\n",
                "\t\t\tStructField(\"cd_dep_employed_count\", IntegerType()), \\\n",
                "\t\t\tStructField(\"cd_dep_college_count\", IntegerType()) \\\n",
                "\t])\n",
                "delta_table_definition = \"\"\"\n",
                "CREATE TABLE customer_demographics\n",
                "\t(\n",
                "        cd_demo_sk                integer               not null,\n",
                "        cd_gender                 char(1)                       ,\n",
                "        cd_marital_status         char(1)                       ,\n",
                "        cd_education_status       char(20)                      ,\n",
                "        cd_purchase_estimate      integer                       ,\n",
                "        cd_credit_rating          char(10)                      ,\n",
                "        cd_dep_count              integer                       ,\n",
                "        cd_dep_employed_count     integer                       ,\n",
                "        cd_dep_college_count      integer                       \n",
                "\t)\n",
                "\tLOCATION '[DELTA_TABLE_LOCATION]'\n",
                "\"\"\"\n",
                "\n",
                "fn_process_data (file_name, table_name, dataframe_schema, delta_table_definition)"
            ],
            "metadata": {
                "jupyter": {
                    "source_hidden": false,
                    "outputs_hidden": false
                },
                "nteract": {
                    "transient": {
                        "deleting": false
                    }
                },
                "azdata_cell_guid": "c9beec5a-65e6-468e-9142-40f23b3e01dc",
                "language": "sql"
            },
            "outputs": [],
            "execution_count": null
        },
        {
            "cell_type": "code",
            "source": [
                "# date_dim\n",
                "file_name = 'date_dim/*.dat'\n",
                "table_name = 'date_dim'\n",
                "dataframe_schema = \\\n",
                "\tStructType([ \\\n",
                "\t\t\tStructField(\"d_date_sk\", IntegerType()), \\\n",
                "\t\t\tStructField(\"d_date_id\", StringType()), \\\n",
                "\t\t\tStructField(\"d_date\", DateType()), \\\n",
                "\t\t\tStructField(\"d_month_seq\", IntegerType()), \\\n",
                "\t\t\tStructField(\"d_week_seq\", IntegerType()), \\\n",
                "\t\t\tStructField(\"d_quarter_seq\", IntegerType()), \\\n",
                "\t\t\tStructField(\"d_year\", IntegerType()), \\\n",
                "\t\t\tStructField(\"d_dow\", IntegerType()), \\\n",
                "\t\t\tStructField(\"d_moy\", IntegerType()), \\\n",
                "\t\t\tStructField(\"d_dom\", IntegerType()), \\\n",
                "\t\t\tStructField(\"d_qoy\", IntegerType()), \\\n",
                "\t\t\tStructField(\"d_fy_year\", IntegerType()), \\\n",
                "\t\t\tStructField(\"d_fy_quarter_seq\", IntegerType()), \\\n",
                "\t\t\tStructField(\"d_fy_week_seq\", IntegerType()), \\\n",
                "\t\t\tStructField(\"d_day_name\", StringType()), \\\n",
                "\t\t\tStructField(\"d_quarter_name\", StringType()), \\\n",
                "\t\t\tStructField(\"d_holiday\", StringType()), \\\n",
                "\t\t\tStructField(\"d_weekend\", StringType()), \\\n",
                "\t\t\tStructField(\"d_following_holiday\", StringType()), \\\n",
                "\t\t\tStructField(\"d_first_dom\", IntegerType()), \\\n",
                "\t\t\tStructField(\"d_last_dom\", IntegerType()), \\\n",
                "\t\t\tStructField(\"d_same_day_ly\", IntegerType()), \\\n",
                "\t\t\tStructField(\"d_same_day_lq\", IntegerType()), \\\n",
                "\t\t\tStructField(\"d_current_day\", StringType()), \\\n",
                "\t\t\tStructField(\"d_current_week\", StringType()), \\\n",
                "\t\t\tStructField(\"d_current_month\", StringType()), \\\n",
                "\t\t\tStructField(\"d_current_quarter\", StringType()), \\\n",
                "\t\t\tStructField(\"d_current_year\", StringType()) \\\n",
                "\t])\n",
                "delta_table_definition = \"\"\"\n",
                "CREATE TABLE date_dim\n",
                "\t(\n",
                "        d_date_sk                 integer               not null,\n",
                "        d_date_id                 char(16)              not null,\n",
                "        d_date                    date                          ,\n",
                "        d_month_seq               integer                       ,\n",
                "        d_week_seq                integer                       ,\n",
                "        d_quarter_seq             integer                       ,\n",
                "        d_year                    integer                       ,\n",
                "        d_dow                     integer                       ,\n",
                "        d_moy                     integer                       ,\n",
                "        d_dom                     integer                       ,\n",
                "        d_qoy                     integer                       ,\n",
                "        d_fy_year                 integer                       ,\n",
                "        d_fy_quarter_seq          integer                       ,\n",
                "        d_fy_week_seq             integer                       ,\n",
                "        d_day_name                char(9)                       ,\n",
                "        d_quarter_name            char(6)                       ,\n",
                "        d_holiday                 char(1)                       ,\n",
                "        d_weekend                 char(1)                       ,\n",
                "        d_following_holiday       char(1)                       ,\n",
                "        d_first_dom               integer                       ,\n",
                "        d_last_dom                integer                       ,\n",
                "        d_same_day_ly             integer                       ,\n",
                "        d_same_day_lq             integer                       ,\n",
                "        d_current_day             char(1)                       ,\n",
                "        d_current_week            char(1)                       ,\n",
                "        d_current_month           char(1)                       ,\n",
                "        d_current_quarter         char(1)                       ,\n",
                "        d_current_year            char(1)                       \n",
                "\t)\n",
                "\tLOCATION '[DELTA_TABLE_LOCATION]'\n",
                "\"\"\"\n",
                "\n",
                "fn_process_data (file_name, table_name, dataframe_schema, delta_table_definition)"
            ],
            "metadata": {
                "jupyter": {
                    "source_hidden": false,
                    "outputs_hidden": false
                },
                "nteract": {
                    "transient": {
                        "deleting": false
                    }
                },
                "azdata_cell_guid": "067529b2-b665-48ea-a3a9-1612fe11a635",
                "language": "sql"
            },
            "outputs": [],
            "execution_count": null
        },
        {
            "cell_type": "code",
            "source": [
                "# household_demographics\n",
                "file_name = 'household_demographics/*.dat'\n",
                "table_name = 'household_demographics'\n",
                "dataframe_schema = \\\n",
                "\tStructType([ \\\n",
                "\t\t\tStructField(\"hd_demo_sk\", IntegerType()), \\\n",
                "\t\t\tStructField(\"hd_income_band_sk\", IntegerType()), \\\n",
                "\t\t\tStructField(\"hd_buy_potential\", StringType()), \\\n",
                "\t\t\tStructField(\"hd_dep_count\", IntegerType()), \\\n",
                "\t\t\tStructField(\"hd_vehicle_count\", IntegerType()) \\\n",
                "\t])\n",
                "delta_table_definition = \"\"\"\n",
                "CREATE TABLE household_demographics\n",
                "\t(\n",
                "        hd_demo_sk                integer               not null,\n",
                "        hd_income_band_sk         integer                       ,\n",
                "        hd_buy_potential          char(15)                      ,\n",
                "        hd_dep_count              integer                       ,\n",
                "        hd_vehicle_count          integer                       \n",
                "\t)\n",
                "\tLOCATION '[DELTA_TABLE_LOCATION]'\n",
                "\"\"\"\n",
                "\n",
                "fn_process_data (file_name, table_name, dataframe_schema, delta_table_definition)"
            ],
            "metadata": {
                "jupyter": {
                    "source_hidden": false,
                    "outputs_hidden": false
                },
                "nteract": {
                    "transient": {
                        "deleting": false
                    }
                },
                "azdata_cell_guid": "34fdb992-d038-4453-ba96-18b9de59afb0",
                "language": "sql"
            },
            "outputs": [],
            "execution_count": null
        },
        {
            "cell_type": "code",
            "source": [
                "# income_band\n",
                "file_name = 'income_band/*.dat'\n",
                "table_name = 'income_band'\n",
                "dataframe_schema = \\\n",
                "\tStructType([ \\\n",
                "\t\t\tStructField(\"ib_income_band_sk\", IntegerType()), \\\n",
                "\t\t\tStructField(\"ib_lower_bound\", IntegerType()), \\\n",
                "\t\t\tStructField(\"ib_upper_bound\", IntegerType()) \\\n",
                "\t])\n",
                "delta_table_definition = \"\"\"\n",
                "CREATE TABLE income_band\n",
                "\t(\n",
                "        ib_income_band_sk         integer               not null,\n",
                "        ib_lower_bound            integer                       ,\n",
                "        ib_upper_bound            integer                       \n",
                "\t)\n",
                "\tLOCATION '[DELTA_TABLE_LOCATION]'\n",
                "\"\"\"\n",
                "\n",
                "fn_process_data (file_name, table_name, dataframe_schema, delta_table_definition)"
            ],
            "metadata": {
                "jupyter": {
                    "source_hidden": false,
                    "outputs_hidden": false
                },
                "nteract": {
                    "transient": {
                        "deleting": false
                    }
                },
                "azdata_cell_guid": "34f64d49-c0dd-4dfb-a874-c5e2e3bb419a",
                "language": "sql"
            },
            "outputs": [],
            "execution_count": null
        },
        {
            "cell_type": "code",
            "source": [
                "# inventory\n",
                "file_name = 'inventory/*.dat'\n",
                "table_name = 'inventory'\n",
                "dataframe_schema = \\\n",
                "\tStructType([ \\\n",
                "\t\t\tStructField(\"inv_date_sk\", IntegerType()), \\\n",
                "\t\t\tStructField(\"inv_item_sk\", IntegerType()), \\\n",
                "\t\t\tStructField(\"inv_warehouse_sk\", IntegerType()), \\\n",
                "\t\t\tStructField(\"inv_quantity_on_hand\", IntegerType()) \\\n",
                "\t])\n",
                "delta_table_definition = \"\"\"\n",
                "CREATE TABLE inventory\n",
                "\t(\n",
                "        inv_date_sk               integer               not null,\n",
                "        inv_item_sk               integer               not null,\n",
                "        inv_warehouse_sk          integer               not null,\n",
                "        inv_quantity_on_hand      integer                       \n",
                "\t)\n",
                "\tLOCATION '[DELTA_TABLE_LOCATION]'\n",
                "\"\"\"\n",
                "\n",
                "fn_process_data (file_name, table_name, dataframe_schema, delta_table_definition)"
            ],
            "metadata": {
                "jupyter": {
                    "source_hidden": false,
                    "outputs_hidden": false
                },
                "nteract": {
                    "transient": {
                        "deleting": false
                    }
                },
                "azdata_cell_guid": "39606177-d211-4a28-a574-f88f9ee79af5",
                "language": "sql"
            },
            "outputs": [],
            "execution_count": null
        },
        {
            "cell_type": "code",
            "source": [
                "# item\n",
                "file_name = 'item/*.dat'\n",
                "table_name = 'item'\n",
                "dataframe_schema = \\\n",
                "\tStructType([ \\\n",
                "\t\t\tStructField(\"i_item_sk\", IntegerType()), \\\n",
                "\t\t\tStructField(\"i_item_id\", StringType()), \\\n",
                "\t\t\tStructField(\"i_rec_start_date\", DateType()), \\\n",
                "\t\t\tStructField(\"i_rec_end_date\", DateType()), \\\n",
                "\t\t\tStructField(\"i_item_desc\", StringType()), \\\n",
                "\t\t\tStructField(\"i_current_price\", DoubleType()), \\\n",
                "\t\t\tStructField(\"i_wholesale_cost\", DoubleType()), \\\n",
                "\t\t\tStructField(\"i_brand_id\", IntegerType()), \\\n",
                "\t\t\tStructField(\"i_brand\", StringType()), \\\n",
                "\t\t\tStructField(\"i_class_id\", IntegerType()), \\\n",
                "\t\t\tStructField(\"i_class\", StringType()), \\\n",
                "\t\t\tStructField(\"i_category_id\", IntegerType()), \\\n",
                "\t\t\tStructField(\"i_category\", StringType()), \\\n",
                "\t\t\tStructField(\"i_manufact_id\", IntegerType()), \\\n",
                "\t\t\tStructField(\"i_manufact\", StringType()), \\\n",
                "\t\t\tStructField(\"i_size\", StringType()), \\\n",
                "\t\t\tStructField(\"i_formulation\", StringType()), \\\n",
                "\t\t\tStructField(\"i_color\", StringType()), \\\n",
                "\t\t\tStructField(\"i_units\", StringType()), \\\n",
                "\t\t\tStructField(\"i_container\", StringType()), \\\n",
                "\t\t\tStructField(\"i_manager_id\", IntegerType()), \\\n",
                "\t\t\tStructField(\"i_product_name\", StringType()) \\\n",
                "\t])\n",
                "delta_table_definition = \"\"\"\n",
                "CREATE TABLE item\n",
                "\t(\n",
                "        i_item_sk                 integer               not null,\n",
                "        i_item_id                 char(16)              not null,\n",
                "        i_rec_start_date          date                          ,\n",
                "        i_rec_end_date            date                          ,\n",
                "        i_item_desc               varchar(200)                  ,\n",
                "        i_current_price           decimal(7,2)                  ,\n",
                "        i_wholesale_cost          decimal(7,2)                  ,\n",
                "        i_brand_id                integer                       ,\n",
                "        i_brand                   char(50)                      ,\n",
                "        i_class_id                integer                       ,\n",
                "        i_class                   char(50)                      ,\n",
                "        i_category_id             integer                       ,\n",
                "        i_category                char(50)                      ,\n",
                "        i_manufact_id             integer                       ,\n",
                "        i_manufact                char(50)                      ,\n",
                "        i_size                    char(20)                      ,\n",
                "        i_formulation             char(20)                      ,\n",
                "        i_color                   char(20)                      ,\n",
                "        i_units                   char(10)                      ,\n",
                "        i_container               char(10)                      ,\n",
                "        i_manager_id              integer                       ,\n",
                "        i_product_name            char(50)                      \n",
                "\t)\n",
                "\tLOCATION '[DELTA_TABLE_LOCATION]'\n",
                "\"\"\"\n",
                "\n",
                "fn_process_data (file_name, table_name, dataframe_schema, delta_table_definition)"
            ],
            "metadata": {
                "jupyter": {
                    "source_hidden": false,
                    "outputs_hidden": false
                },
                "nteract": {
                    "transient": {
                        "deleting": false
                    }
                },
                "azdata_cell_guid": "40219f23-99fe-4e94-a520-64f6fe64a64f",
                "language": "sql"
            },
            "outputs": [],
            "execution_count": null
        },
        {
            "cell_type": "code",
            "source": [
                "# promotion\n",
                "file_name = 'promotion/*.dat'\n",
                "table_name = 'promotion'\n",
                "dataframe_schema = \\\n",
                "\tStructType([ \\\n",
                "\t\t\tStructField(\"p_promo_sk\", IntegerType()), \\\n",
                "\t\t\tStructField(\"p_promo_id\", StringType()), \\\n",
                "\t\t\tStructField(\"p_start_date_sk\", IntegerType()), \\\n",
                "\t\t\tStructField(\"p_end_date_sk\", IntegerType()), \\\n",
                "\t\t\tStructField(\"p_item_sk\", IntegerType()), \\\n",
                "\t\t\tStructField(\"p_cost\", DoubleType()), \\\n",
                "\t\t\tStructField(\"p_response_target\", IntegerType()), \\\n",
                "\t\t\tStructField(\"p_promo_name\", StringType()), \\\n",
                "\t\t\tStructField(\"p_channel_dmail\", StringType()), \\\n",
                "\t\t\tStructField(\"p_channel_email\", StringType()), \\\n",
                "\t\t\tStructField(\"p_channel_catalog\", StringType()), \\\n",
                "\t\t\tStructField(\"p_channel_tv\", StringType()), \\\n",
                "\t\t\tStructField(\"p_channel_radio\", StringType()), \\\n",
                "\t\t\tStructField(\"p_channel_press\", StringType()), \\\n",
                "\t\t\tStructField(\"p_channel_event\", StringType()), \\\n",
                "\t\t\tStructField(\"p_channel_demo\", StringType()), \\\n",
                "\t\t\tStructField(\"p_channel_details\", StringType()), \\\n",
                "\t\t\tStructField(\"p_purpose\", StringType()), \\\n",
                "\t\t\tStructField(\"p_discount_active\", StringType()) \\\n",
                "\t])\n",
                "delta_table_definition = \"\"\"\n",
                "CREATE TABLE promotion\n",
                "\t(\n",
                "        p_promo_sk                integer               not null,\n",
                "        p_promo_id                char(16)              not null,\n",
                "        p_start_date_sk           integer                       ,\n",
                "        p_end_date_sk             integer                       ,\n",
                "        p_item_sk                 integer                       ,\n",
                "        p_cost                    decimal(15,2)                 ,\n",
                "        p_response_target         integer                       ,\n",
                "        p_promo_name              char(50)                      ,\n",
                "        p_channel_dmail           char(1)                       ,\n",
                "        p_channel_email           char(1)                       ,\n",
                "        p_channel_catalog         char(1)                       ,\n",
                "        p_channel_tv              char(1)                       ,\n",
                "        p_channel_radio           char(1)                       ,\n",
                "        p_channel_press           char(1)                       ,\n",
                "        p_channel_event           char(1)                       ,\n",
                "        p_channel_demo            char(1)                       ,\n",
                "        p_channel_details         varchar(100)                  ,\n",
                "        p_purpose                 char(15)                      ,\n",
                "        p_discount_active         char(1)                       \n",
                "\t)\n",
                "\tLOCATION '[DELTA_TABLE_LOCATION]'\n",
                "\"\"\"\n",
                "\n",
                "fn_process_data (file_name, table_name, dataframe_schema, delta_table_definition)"
            ],
            "metadata": {
                "jupyter": {
                    "source_hidden": false,
                    "outputs_hidden": false
                },
                "nteract": {
                    "transient": {
                        "deleting": false
                    }
                },
                "azdata_cell_guid": "97324b69-454e-4d4b-b42b-b7460663b49e",
                "language": "sql"
            },
            "outputs": [],
            "execution_count": null
        },
        {
            "cell_type": "code",
            "source": [
                "# reason\n",
                "file_name = 'reason/*.dat'\n",
                "table_name = 'reason'\n",
                "dataframe_schema = \\\n",
                "\tStructType([ \\\n",
                "\t\t\tStructField(\"r_reason_sk\", IntegerType()), \\\n",
                "\t\t\tStructField(\"r_reason_id\", StringType()), \\\n",
                "\t\t\tStructField(\"r_reason_desc\", StringType()) \\\n",
                "\t])\n",
                "delta_table_definition = \"\"\"\n",
                "CREATE TABLE reason\n",
                "\t(\n",
                "        r_reason_sk               integer               not null,\n",
                "        r_reason_id               char(16)              not null,\n",
                "        r_reason_desc             char(100)                     \n",
                "\t)\n",
                "\tLOCATION '[DELTA_TABLE_LOCATION]'\n",
                "\"\"\"\n",
                "\n",
                "fn_process_data (file_name, table_name, dataframe_schema, delta_table_definition)"
            ],
            "metadata": {
                "jupyter": {
                    "source_hidden": false,
                    "outputs_hidden": false
                },
                "nteract": {
                    "transient": {
                        "deleting": false
                    }
                },
                "azdata_cell_guid": "84dff475-1621-4e03-a6f2-8ebf62753b82",
                "language": "sql"
            },
            "outputs": [],
            "execution_count": null
        },
        {
            "cell_type": "code",
            "source": [
                "# ship_mode\n",
                "file_name = 'ship_mode/*.dat'\n",
                "table_name = 'ship_mode'\n",
                "dataframe_schema = \\\n",
                "\tStructType([ \\\n",
                "\t\t\tStructField(\"sm_ship_mode_sk\", IntegerType()), \\\n",
                "\t\t\tStructField(\"sm_ship_mode_id\", StringType()), \\\n",
                "\t\t\tStructField(\"sm_type\", StringType()), \\\n",
                "\t\t\tStructField(\"sm_code\", StringType()), \\\n",
                "\t\t\tStructField(\"sm_carrier\", StringType()), \\\n",
                "\t\t\tStructField(\"sm_contract\", StringType()) \\\n",
                "\t])\n",
                "delta_table_definition = \"\"\"\n",
                "CREATE TABLE ship_mode\n",
                "\t(\n",
                "        sm_ship_mode_sk           integer               not null,\n",
                "        sm_ship_mode_id           char(16)              not null,\n",
                "        sm_type                   char(30)                      ,\n",
                "        sm_code                   char(10)                      ,\n",
                "        sm_carrier                char(20)                      ,\n",
                "        sm_contract               char(20)                      \n",
                "\t)\n",
                "\tLOCATION '[DELTA_TABLE_LOCATION]'\n",
                "\"\"\"\n",
                "\n",
                "fn_process_data (file_name, table_name, dataframe_schema, delta_table_definition)"
            ],
            "metadata": {
                "jupyter": {
                    "source_hidden": false,
                    "outputs_hidden": false
                },
                "nteract": {
                    "transient": {
                        "deleting": false
                    }
                },
                "azdata_cell_guid": "8fc43323-d0e6-4809-b5ec-bd0c43839ca7",
                "language": "sql"
            },
            "outputs": [],
            "execution_count": null
        },
        {
            "cell_type": "code",
            "source": [
                "# store\n",
                "file_name = 'store/*.dat'\n",
                "table_name = 'store'\n",
                "dataframe_schema = \\\n",
                "\tStructType([ \\\n",
                "\t\t\tStructField(\"s_store_sk\", IntegerType()), \\\n",
                "\t\t\tStructField(\"s_store_id\", StringType()), \\\n",
                "\t\t\tStructField(\"s_rec_start_date\", DateType()), \\\n",
                "\t\t\tStructField(\"s_rec_end_date\", DateType()), \\\n",
                "\t\t\tStructField(\"s_closed_date_sk\", IntegerType()), \\\n",
                "\t\t\tStructField(\"s_store_name\", StringType()), \\\n",
                "\t\t\tStructField(\"s_number_employees\", IntegerType()), \\\n",
                "\t\t\tStructField(\"s_floor_space\", IntegerType()), \\\n",
                "\t\t\tStructField(\"s_hours\", StringType()), \\\n",
                "\t\t\tStructField(\"s_manager\", StringType()), \\\n",
                "\t\t\tStructField(\"s_market_id\", IntegerType()), \\\n",
                "\t\t\tStructField(\"s_geography_class\", StringType()), \\\n",
                "\t\t\tStructField(\"s_market_desc\", StringType()), \\\n",
                "\t\t\tStructField(\"s_market_manager\", StringType()), \\\n",
                "\t\t\tStructField(\"s_division_id\", IntegerType()), \\\n",
                "\t\t\tStructField(\"s_division_name\", StringType()), \\\n",
                "\t\t\tStructField(\"s_company_id\", IntegerType()), \\\n",
                "\t\t\tStructField(\"s_company_name\", StringType()), \\\n",
                "\t\t\tStructField(\"s_street_number\", StringType()), \\\n",
                "\t\t\tStructField(\"s_street_name\", StringType()), \\\n",
                "\t\t\tStructField(\"s_street_type\", StringType()), \\\n",
                "\t\t\tStructField(\"s_suite_number\", StringType()), \\\n",
                "\t\t\tStructField(\"s_city\", StringType()), \\\n",
                "\t\t\tStructField(\"s_county\", StringType()), \\\n",
                "\t\t\tStructField(\"s_state\", StringType()), \\\n",
                "\t\t\tStructField(\"s_zip\", StringType()), \\\n",
                "\t\t\tStructField(\"s_country\", StringType()), \\\n",
                "\t\t\tStructField(\"s_gmt_offset\", DoubleType()), \\\n",
                "\t\t\tStructField(\"s_tax_precentage\", DoubleType()) \\\n",
                "\t])\n",
                "delta_table_definition = \"\"\"\n",
                "CREATE TABLE store\n",
                "\t(\n",
                "        s_store_sk                integer               not null,\n",
                "        s_store_id                char(16)              not null,\n",
                "        s_rec_start_date          date                          ,\n",
                "        s_rec_end_date            date                          ,\n",
                "        s_closed_date_sk          integer                       ,\n",
                "        s_store_name              varchar(50)                   ,\n",
                "        s_number_employees        integer                       ,\n",
                "        s_floor_space             integer                       ,\n",
                "        s_hours                   char(20)                      ,\n",
                "        s_manager                 varchar(40)                   ,\n",
                "        s_market_id               integer                       ,\n",
                "        s_geography_class         varchar(100)                  ,\n",
                "        s_market_desc             varchar(100)                  ,\n",
                "        s_market_manager          varchar(40)                   ,\n",
                "        s_division_id             integer                       ,\n",
                "        s_division_name           varchar(50)                   ,\n",
                "        s_company_id              integer                       ,\n",
                "        s_company_name            varchar(50)                   ,\n",
                "        s_street_number           varchar(10)                   ,\n",
                "        s_street_name             varchar(60)                   ,\n",
                "        s_street_type             char(15)                      ,\n",
                "        s_suite_number            char(10)                      ,\n",
                "        s_city                    varchar(60)                   ,\n",
                "        s_county                  varchar(30)                   ,\n",
                "        s_state                   char(2)                       ,\n",
                "        s_zip                     char(10)                      ,\n",
                "        s_country                 varchar(20)                   ,\n",
                "        s_gmt_offset              decimal(5,2)                  ,\n",
                "        s_tax_precentage          decimal(5,2)                  \n",
                "\t)\n",
                "\tLOCATION '[DELTA_TABLE_LOCATION]'\n",
                "\"\"\"\n",
                "\n",
                "fn_process_data (file_name, table_name, dataframe_schema, delta_table_definition)"
            ],
            "metadata": {
                "jupyter": {
                    "source_hidden": false,
                    "outputs_hidden": false
                },
                "nteract": {
                    "transient": {
                        "deleting": false
                    }
                },
                "azdata_cell_guid": "a9acdcca-de25-414e-9345-1636479a8962",
                "language": "sql"
            },
            "outputs": [],
            "execution_count": null
        },
        {
            "cell_type": "code",
            "source": [
                "# store_returns\n",
                "file_name = 'store_returns/*.dat'\n",
                "table_name = 'store_returns'\n",
                "dataframe_schema = \\\n",
                "\tStructType([ \\\n",
                "\t\t\tStructField(\"sr_returned_date_sk\", IntegerType()), \\\n",
                "\t\t\tStructField(\"sr_return_time_sk\", IntegerType()), \\\n",
                "\t\t\tStructField(\"sr_item_sk\", IntegerType()), \\\n",
                "\t\t\tStructField(\"sr_customer_sk\", IntegerType()), \\\n",
                "\t\t\tStructField(\"sr_cdemo_sk\", IntegerType()), \\\n",
                "\t\t\tStructField(\"sr_hdemo_sk\", IntegerType()), \\\n",
                "\t\t\tStructField(\"sr_addr_sk\", IntegerType()), \\\n",
                "\t\t\tStructField(\"sr_store_sk\", IntegerType()), \\\n",
                "\t\t\tStructField(\"sr_reason_sk\", IntegerType()), \\\n",
                "\t\t\tStructField(\"sr_ticket_number\", IntegerType()), \\\n",
                "\t\t\tStructField(\"sr_return_quantity\", IntegerType()), \\\n",
                "\t\t\tStructField(\"sr_return_amt\", DoubleType()), \\\n",
                "\t\t\tStructField(\"sr_return_tax\", DoubleType()), \\\n",
                "\t\t\tStructField(\"sr_return_amt_inc_tax\", DoubleType()), \\\n",
                "\t\t\tStructField(\"sr_fee\", DoubleType()), \\\n",
                "\t\t\tStructField(\"sr_return_ship_cost\", DoubleType()), \\\n",
                "\t\t\tStructField(\"sr_refunded_cash\", DoubleType()), \\\n",
                "\t\t\tStructField(\"sr_reversed_charge\", DoubleType()), \\\n",
                "\t\t\tStructField(\"sr_store_credit\", DoubleType()), \\\n",
                "\t\t\tStructField(\"sr_net_loss\", DoubleType()) \\\n",
                "\t])\n",
                "delta_table_definition = \"\"\"\n",
                "CREATE TABLE store_returns\n",
                "\t(\n",
                "        sr_returned_date_sk       integer                       ,\n",
                "        sr_return_time_sk         integer                       ,\n",
                "        sr_item_sk                integer               not null,\n",
                "        sr_customer_sk            integer                       ,\n",
                "        sr_cdemo_sk               integer                       ,\n",
                "        sr_hdemo_sk               integer                       ,\n",
                "        sr_addr_sk                integer                       ,\n",
                "        sr_store_sk               integer                       ,\n",
                "        sr_reason_sk              integer                       ,\n",
                "        sr_ticket_number          integer               not null,\n",
                "        sr_return_quantity        integer                       ,\n",
                "        sr_return_amt             decimal(7,2)                  ,\n",
                "        sr_return_tax             decimal(7,2)                  ,\n",
                "        sr_return_amt_inc_tax     decimal(7,2)                  ,\n",
                "        sr_fee                    decimal(7,2)                  ,\n",
                "        sr_return_ship_cost       decimal(7,2)                  ,\n",
                "        sr_refunded_cash          decimal(7,2)                  ,\n",
                "        sr_reversed_charge        decimal(7,2)                  ,\n",
                "        sr_store_credit           decimal(7,2)                  ,\n",
                "        sr_net_loss               decimal(7,2)                  \n",
                "\t)\n",
                "\tLOCATION '[DELTA_TABLE_LOCATION]'\n",
                "\"\"\"\n",
                "\n",
                "fn_process_data (file_name, table_name, dataframe_schema, delta_table_definition)"
            ],
            "metadata": {
                "jupyter": {
                    "source_hidden": false,
                    "outputs_hidden": false
                },
                "nteract": {
                    "transient": {
                        "deleting": false
                    }
                },
                "azdata_cell_guid": "30023ce8-d7ae-4592-956e-bfca8e2e0fd1",
                "language": "sql"
            },
            "outputs": [],
            "execution_count": null
        },
        {
            "cell_type": "code",
            "source": [
                "# store_sales\n",
                "file_name = 'store_sales/*.dat'\n",
                "table_name = 'store_sales'\n",
                "dataframe_schema = \\\n",
                "\tStructType([ \\\n",
                "\t\t\tStructField(\"ss_sold_date_sk\", IntegerType()), \\\n",
                "\t\t\tStructField(\"ss_sold_time_sk\", IntegerType()), \\\n",
                "\t\t\tStructField(\"ss_item_sk\", IntegerType()), \\\n",
                "\t\t\tStructField(\"ss_customer_sk\", IntegerType()), \\\n",
                "\t\t\tStructField(\"ss_cdemo_sk\", IntegerType()), \\\n",
                "\t\t\tStructField(\"ss_hdemo_sk\", IntegerType()), \\\n",
                "\t\t\tStructField(\"ss_addr_sk\", IntegerType()), \\\n",
                "\t\t\tStructField(\"ss_store_sk\", IntegerType()), \\\n",
                "\t\t\tStructField(\"ss_promo_sk\", IntegerType()), \\\n",
                "\t\t\tStructField(\"ss_ticket_number\", IntegerType()), \\\n",
                "\t\t\tStructField(\"ss_quantity\", IntegerType()), \\\n",
                "\t\t\tStructField(\"ss_wholesale_cost\", DoubleType()), \\\n",
                "\t\t\tStructField(\"ss_list_price\", DoubleType()), \\\n",
                "\t\t\tStructField(\"ss_sales_price\", DoubleType()), \\\n",
                "\t\t\tStructField(\"ss_ext_discount_amt\", DoubleType()), \\\n",
                "\t\t\tStructField(\"ss_ext_sales_price\", DoubleType()), \\\n",
                "\t\t\tStructField(\"ss_ext_wholesale_cost\", DoubleType()), \\\n",
                "\t\t\tStructField(\"ss_ext_list_price\", DoubleType()), \\\n",
                "\t\t\tStructField(\"ss_ext_tax\", DoubleType()), \\\n",
                "\t\t\tStructField(\"ss_coupon_amt\", DoubleType()), \\\n",
                "\t\t\tStructField(\"ss_net_paid\", DoubleType()), \\\n",
                "\t\t\tStructField(\"ss_net_paid_inc_tax\", DoubleType()), \\\n",
                "\t\t\tStructField(\"ss_net_profit\", DoubleType()) \\\n",
                "\t])\n",
                "delta_table_definition = \"\"\"\n",
                "CREATE TABLE store_sales\n",
                "\t(\n",
                "        ss_sold_date_sk           integer                       ,\n",
                "        ss_sold_time_sk           integer                       ,\n",
                "        ss_item_sk                integer               not null,\n",
                "        ss_customer_sk            integer                       ,\n",
                "        ss_cdemo_sk               integer                       ,\n",
                "        ss_hdemo_sk               integer                       ,\n",
                "        ss_addr_sk                integer                       ,\n",
                "        ss_store_sk               integer                       ,\n",
                "        ss_promo_sk               integer                       ,\n",
                "        ss_ticket_number          integer               not null,\n",
                "        ss_quantity               integer                       ,\n",
                "        ss_wholesale_cost         decimal(7,2)                  ,\n",
                "        ss_list_price             decimal(7,2)                  ,\n",
                "        ss_sales_price            decimal(7,2)                  ,\n",
                "        ss_ext_discount_amt       decimal(7,2)                  ,\n",
                "        ss_ext_sales_price        decimal(7,2)                  ,\n",
                "        ss_ext_wholesale_cost     decimal(7,2)                  ,\n",
                "        ss_ext_list_price         decimal(7,2)                  ,\n",
                "        ss_ext_tax                decimal(7,2)                  ,\n",
                "        ss_coupon_amt             decimal(7,2)                  ,\n",
                "        ss_net_paid               decimal(7,2)                  ,\n",
                "        ss_net_paid_inc_tax       decimal(7,2)                  ,\n",
                "        ss_net_profit             decimal(7,2)                  \n",
                "\t)\n",
                "\tLOCATION '[DELTA_TABLE_LOCATION]'\n",
                "\"\"\"\n",
                "\n",
                "fn_process_data (file_name, table_name, dataframe_schema, delta_table_definition)"
            ],
            "metadata": {
                "jupyter": {
                    "source_hidden": false,
                    "outputs_hidden": false
                },
                "nteract": {
                    "transient": {
                        "deleting": false
                    }
                },
                "azdata_cell_guid": "2c7eaf45-4629-4968-b8a7-16880246b672",
                "language": "sql"
            },
            "outputs": [],
            "execution_count": null
        },
        {
            "cell_type": "code",
            "source": [
                "# time_dim\n",
                "file_name = 'time_dim/*.dat'\n",
                "table_name = 'time_dim'\n",
                "dataframe_schema = \\\n",
                "\tStructType([ \\\n",
                "\t\t\tStructField(\"t_time_sk\", IntegerType()), \\\n",
                "\t\t\tStructField(\"t_time_id\", StringType()), \\\n",
                "\t\t\tStructField(\"t_time\", IntegerType()), \\\n",
                "\t\t\tStructField(\"t_hour\", IntegerType()), \\\n",
                "\t\t\tStructField(\"t_minute\", IntegerType()), \\\n",
                "\t\t\tStructField(\"t_second\", IntegerType()), \\\n",
                "\t\t\tStructField(\"t_am_pm\", StringType()), \\\n",
                "\t\t\tStructField(\"t_shift\", StringType()), \\\n",
                "\t\t\tStructField(\"t_sub_shift\", StringType()), \\\n",
                "\t\t\tStructField(\"t_meal_time\", StringType()) \\\n",
                "\t])\n",
                "delta_table_definition = \"\"\"\n",
                "CREATE TABLE time_dim\n",
                "\t(\n",
                "        t_time_sk                 integer               not null,\n",
                "        t_time_id                 char(16)              not null,\n",
                "        t_time                    integer                       ,\n",
                "        t_hour                    integer                       ,\n",
                "        t_minute                  integer                       ,\n",
                "        t_second                  integer                       ,\n",
                "        t_am_pm                   char(2)                       ,\n",
                "        t_shift                   char(20)                      ,\n",
                "        t_sub_shift               char(20)                      ,\n",
                "        t_meal_time               char(20)                      \n",
                "\t)\n",
                "\tLOCATION '[DELTA_TABLE_LOCATION]'\n",
                "\"\"\"\n",
                "\n",
                "fn_process_data (file_name, table_name, dataframe_schema, delta_table_definition)"
            ],
            "metadata": {
                "jupyter": {
                    "source_hidden": false,
                    "outputs_hidden": false
                },
                "nteract": {
                    "transient": {
                        "deleting": false
                    }
                },
                "azdata_cell_guid": "82e9c600-ebd0-42e6-a53f-0e9458688b6e",
                "language": "sql"
            },
            "outputs": [],
            "execution_count": null
        },
        {
            "cell_type": "code",
            "source": [
                "# warehouse\n",
                "file_name = 'warehouse/*.dat'\n",
                "table_name = 'warehouse'\n",
                "dataframe_schema = \\\n",
                "\tStructType([ \\\n",
                "\t\t\tStructField(\"w_warehouse_sk\", IntegerType()), \\\n",
                "\t\t\tStructField(\"w_warehouse_id\", StringType()), \\\n",
                "\t\t\tStructField(\"w_warehouse_name\", StringType()), \\\n",
                "\t\t\tStructField(\"w_warehouse_sq_ft\", IntegerType()), \\\n",
                "\t\t\tStructField(\"w_street_number\", StringType()), \\\n",
                "\t\t\tStructField(\"w_street_name\", StringType()), \\\n",
                "\t\t\tStructField(\"w_street_type\", StringType()), \\\n",
                "\t\t\tStructField(\"w_suite_number\", StringType()), \\\n",
                "\t\t\tStructField(\"w_city\", StringType()), \\\n",
                "\t\t\tStructField(\"w_county\", StringType()), \\\n",
                "\t\t\tStructField(\"w_state\", StringType()), \\\n",
                "\t\t\tStructField(\"w_zip\", StringType()), \\\n",
                "\t\t\tStructField(\"w_country\", StringType()), \\\n",
                "\t\t\tStructField(\"w_gmt_offset\", DoubleType()) \\\n",
                "\t])\n",
                "delta_table_definition = \"\"\"\n",
                "CREATE TABLE warehouse\n",
                "\t(\n",
                "        w_warehouse_sk            integer               not null,\n",
                "        w_warehouse_id            char(16)              not null,\n",
                "        w_warehouse_name          varchar(20)                   ,\n",
                "        w_warehouse_sq_ft         integer                       ,\n",
                "        w_street_number           char(10)                      ,\n",
                "        w_street_name             varchar(60)                   ,\n",
                "        w_street_type             char(15)                      ,\n",
                "        w_suite_number            char(10)                      ,\n",
                "        w_city                    varchar(60)                   ,\n",
                "        w_county                  varchar(30)                   ,\n",
                "        w_state                   char(2)                       ,\n",
                "        w_zip                     char(10)                      ,\n",
                "        w_country                 varchar(20)                   ,\n",
                "        w_gmt_offset              decimal(5,2)                  \n",
                "\t)\n",
                "\tLOCATION '[DELTA_TABLE_LOCATION]'\n",
                "\"\"\"\n",
                "\n",
                "fn_process_data (file_name, table_name, dataframe_schema, delta_table_definition)"
            ],
            "metadata": {
                "jupyter": {
                    "source_hidden": false,
                    "outputs_hidden": false
                },
                "nteract": {
                    "transient": {
                        "deleting": false
                    }
                },
                "azdata_cell_guid": "e708b9e5-6c74-424d-824a-398a64d9d303",
                "language": "sql"
            },
            "outputs": [],
            "execution_count": null
        },
        {
            "cell_type": "code",
            "source": [
                "# web_page\n",
                "file_name = 'web_page/*.dat'\n",
                "table_name = 'web_page'\n",
                "dataframe_schema = \\\n",
                "\tStructType([ \\\n",
                "\t\t\tStructField(\"wp_web_page_sk\", IntegerType()), \\\n",
                "\t\t\tStructField(\"wp_web_page_id\", StringType()), \\\n",
                "\t\t\tStructField(\"wp_rec_start_date\", DateType()), \\\n",
                "\t\t\tStructField(\"wp_rec_end_date\", DateType()), \\\n",
                "\t\t\tStructField(\"wp_creation_date_sk\", IntegerType()), \\\n",
                "\t\t\tStructField(\"wp_access_date_sk\", IntegerType()), \\\n",
                "\t\t\tStructField(\"wp_autogen_flag\", StringType()), \\\n",
                "\t\t\tStructField(\"wp_customer_sk\", IntegerType()), \\\n",
                "\t\t\tStructField(\"wp_url\", StringType()), \\\n",
                "\t\t\tStructField(\"wp_type\", StringType()), \\\n",
                "\t\t\tStructField(\"wp_char_count\", IntegerType()), \\\n",
                "\t\t\tStructField(\"wp_link_count\", IntegerType()), \\\n",
                "\t\t\tStructField(\"wp_image_count\", IntegerType()), \\\n",
                "\t\t\tStructField(\"wp_max_ad_count\", IntegerType()) \\\n",
                "\t])\n",
                "delta_table_definition = \"\"\"\n",
                "CREATE TABLE web_page\n",
                "\t(\n",
                "        wp_web_page_sk            integer               not null,\n",
                "        wp_web_page_id            char(16)              not null,\n",
                "        wp_rec_start_date         date                          ,\n",
                "        wp_rec_end_date           date                          ,\n",
                "        wp_creation_date_sk       integer                       ,\n",
                "        wp_access_date_sk         integer                       ,\n",
                "        wp_autogen_flag           char(1)                       ,\n",
                "        wp_customer_sk            integer                       ,\n",
                "        wp_url                    varchar(100)                  ,\n",
                "        wp_type                   char(50)                      ,\n",
                "        wp_char_count             integer                       ,\n",
                "        wp_link_count             integer                       ,\n",
                "        wp_image_count            integer                       ,\n",
                "        wp_max_ad_count           integer                       \n",
                "\t)\n",
                "\tLOCATION '[DELTA_TABLE_LOCATION]'\n",
                "\"\"\"\n",
                "\n",
                "fn_process_data (file_name, table_name, dataframe_schema, delta_table_definition)"
            ],
            "metadata": {
                "jupyter": {
                    "source_hidden": false,
                    "outputs_hidden": false
                },
                "nteract": {
                    "transient": {
                        "deleting": false
                    }
                },
                "azdata_cell_guid": "5fb16cc2-99a1-4311-9b5f-33ef7e060e01",
                "language": "sql"
            },
            "outputs": [],
            "execution_count": null
        },
        {
            "cell_type": "code",
            "source": [
                "# web_returns\n",
                "file_name = 'web_returns/*.dat'\n",
                "table_name = 'web_returns'\n",
                "dataframe_schema = \\\n",
                "\tStructType([ \\\n",
                "\t\t\tStructField(\"wr_returned_date_sk\", IntegerType()), \\\n",
                "\t\t\tStructField(\"wr_returned_time_sk\", IntegerType()), \\\n",
                "\t\t\tStructField(\"wr_item_sk\", IntegerType()), \\\n",
                "\t\t\tStructField(\"wr_refunded_customer_sk\", IntegerType()), \\\n",
                "\t\t\tStructField(\"wr_refunded_cdemo_sk\", IntegerType()), \\\n",
                "\t\t\tStructField(\"wr_refunded_hdemo_sk\", IntegerType()), \\\n",
                "\t\t\tStructField(\"wr_refunded_addr_sk\", IntegerType()), \\\n",
                "\t\t\tStructField(\"wr_returning_customer_sk\", IntegerType()), \\\n",
                "\t\t\tStructField(\"wr_returning_cdemo_sk\", IntegerType()), \\\n",
                "\t\t\tStructField(\"wr_returning_hdemo_sk\", IntegerType()), \\\n",
                "\t\t\tStructField(\"wr_returning_addr_sk\", IntegerType()), \\\n",
                "\t\t\tStructField(\"wr_web_page_sk\", IntegerType()), \\\n",
                "\t\t\tStructField(\"wr_reason_sk\", IntegerType()), \\\n",
                "\t\t\tStructField(\"wr_order_number\", IntegerType()), \\\n",
                "\t\t\tStructField(\"wr_return_quantity\", IntegerType()), \\\n",
                "\t\t\tStructField(\"wr_return_amt\", DoubleType()), \\\n",
                "\t\t\tStructField(\"wr_return_tax\", DoubleType()), \\\n",
                "\t\t\tStructField(\"wr_return_amt_inc_tax\", DoubleType()), \\\n",
                "\t\t\tStructField(\"wr_fee\", DoubleType()), \\\n",
                "\t\t\tStructField(\"wr_return_ship_cost\", DoubleType()), \\\n",
                "\t\t\tStructField(\"wr_refunded_cash\", DoubleType()), \\\n",
                "\t\t\tStructField(\"wr_reversed_charge\", DoubleType()), \\\n",
                "\t\t\tStructField(\"wr_account_credit\", DoubleType()), \\\n",
                "\t\t\tStructField(\"wr_net_loss\", DoubleType()) \\\n",
                "\t])\n",
                "delta_table_definition = \"\"\"\n",
                "CREATE TABLE web_returns\n",
                "\t(\n",
                "        wr_returned_date_sk       integer                       ,\n",
                "        wr_returned_time_sk       integer                       ,\n",
                "        wr_item_sk                integer               not null,\n",
                "        wr_refunded_customer_sk   integer                       ,\n",
                "        wr_refunded_cdemo_sk      integer                       ,\n",
                "        wr_refunded_hdemo_sk      integer                       ,\n",
                "        wr_refunded_addr_sk       integer                       ,\n",
                "        wr_returning_customer_sk  integer                       ,\n",
                "        wr_returning_cdemo_sk     integer                       ,\n",
                "        wr_returning_hdemo_sk     integer                       ,\n",
                "        wr_returning_addr_sk      integer                       ,\n",
                "        wr_web_page_sk            integer                       ,\n",
                "        wr_reason_sk              integer                       ,\n",
                "        wr_order_number           integer               not null,\n",
                "        wr_return_quantity        integer                       ,\n",
                "        wr_return_amt             decimal(7,2)                  ,\n",
                "        wr_return_tax             decimal(7,2)                  ,\n",
                "        wr_return_amt_inc_tax     decimal(7,2)                  ,\n",
                "        wr_fee                    decimal(7,2)                  ,\n",
                "        wr_return_ship_cost       decimal(7,2)                  ,\n",
                "        wr_refunded_cash          decimal(7,2)                  ,\n",
                "        wr_reversed_charge        decimal(7,2)                  ,\n",
                "        wr_account_credit         decimal(7,2)                  ,\n",
                "        wr_net_loss               decimal(7,2)                  \n",
                "\t)\n",
                "\tLOCATION '[DELTA_TABLE_LOCATION]'\n",
                "\"\"\"\n",
                "\n",
                "fn_process_data (file_name, table_name, dataframe_schema, delta_table_definition)"
            ],
            "metadata": {
                "jupyter": {
                    "source_hidden": false,
                    "outputs_hidden": false
                },
                "nteract": {
                    "transient": {
                        "deleting": false
                    }
                },
                "azdata_cell_guid": "c40eb72b-f777-4fef-85c1-4bb923df0a6c",
                "language": "sql"
            },
            "outputs": [],
            "execution_count": null
        },
        {
            "cell_type": "code",
            "source": [
                "# web_sales\n",
                "file_name = 'web_sales/*.dat'\n",
                "table_name = 'web_sales'\n",
                "dataframe_schema = \\\n",
                "\tStructType([ \\\n",
                "\t\t\tStructField(\"ws_sold_date_sk\", IntegerType()), \\\n",
                "\t\t\tStructField(\"ws_sold_time_sk\", IntegerType()), \\\n",
                "\t\t\tStructField(\"ws_ship_date_sk\", IntegerType()), \\\n",
                "\t\t\tStructField(\"ws_item_sk\", IntegerType()), \\\n",
                "\t\t\tStructField(\"ws_bill_customer_sk\", IntegerType()), \\\n",
                "\t\t\tStructField(\"ws_bill_cdemo_sk\", IntegerType()), \\\n",
                "\t\t\tStructField(\"ws_bill_hdemo_sk\", IntegerType()), \\\n",
                "\t\t\tStructField(\"ws_bill_addr_sk\", IntegerType()), \\\n",
                "\t\t\tStructField(\"ws_ship_customer_sk\", IntegerType()), \\\n",
                "\t\t\tStructField(\"ws_ship_cdemo_sk\", IntegerType()), \\\n",
                "\t\t\tStructField(\"ws_ship_hdemo_sk\", IntegerType()), \\\n",
                "\t\t\tStructField(\"ws_ship_addr_sk\", IntegerType()), \\\n",
                "\t\t\tStructField(\"ws_web_page_sk\", IntegerType()), \\\n",
                "\t\t\tStructField(\"ws_web_site_sk\", IntegerType()), \\\n",
                "\t\t\tStructField(\"ws_ship_mode_sk\", IntegerType()), \\\n",
                "\t\t\tStructField(\"ws_warehouse_sk\", IntegerType()), \\\n",
                "\t\t\tStructField(\"ws_promo_sk\", IntegerType()), \\\n",
                "\t\t\tStructField(\"ws_order_number\", IntegerType()), \\\n",
                "\t\t\tStructField(\"ws_quantity\", IntegerType()), \\\n",
                "\t\t\tStructField(\"ws_wholesale_cost\", DoubleType()), \\\n",
                "\t\t\tStructField(\"ws_list_price\", DoubleType()), \\\n",
                "\t\t\tStructField(\"ws_sales_price\", DoubleType()), \\\n",
                "\t\t\tStructField(\"ws_ext_discount_amt\", DoubleType()), \\\n",
                "\t\t\tStructField(\"ws_ext_sales_price\", DoubleType()), \\\n",
                "\t\t\tStructField(\"ws_ext_wholesale_cost\", DoubleType()), \\\n",
                "\t\t\tStructField(\"ws_ext_list_price\", DoubleType()), \\\n",
                "\t\t\tStructField(\"ws_ext_tax\", DoubleType()), \\\n",
                "\t\t\tStructField(\"ws_coupon_amt\", DoubleType()), \\\n",
                "\t\t\tStructField(\"ws_ext_ship_cost\", DoubleType()), \\\n",
                "\t\t\tStructField(\"ws_net_paid\", DoubleType()), \\\n",
                "\t\t\tStructField(\"ws_net_paid_inc_tax\", DoubleType()), \\\n",
                "\t\t\tStructField(\"ws_net_paid_inc_ship\", DoubleType()), \\\n",
                "\t\t\tStructField(\"ws_net_paid_inc_ship_tax\", DoubleType()), \\\n",
                "\t\t\tStructField(\"ws_net_profit\", DoubleType()) \\\n",
                "\t])\n",
                "delta_table_definition = \"\"\"\n",
                "CREATE TABLE web_sales\n",
                "\t(\n",
                "        ws_sold_date_sk           integer                       ,\n",
                "        ws_sold_time_sk           integer                       ,\n",
                "        ws_ship_date_sk           integer                       ,\n",
                "        ws_item_sk                integer               not null,\n",
                "        ws_bill_customer_sk       integer                       ,\n",
                "        ws_bill_cdemo_sk          integer                       ,\n",
                "        ws_bill_hdemo_sk          integer                       ,\n",
                "        ws_bill_addr_sk           integer                       ,\n",
                "        ws_ship_customer_sk       integer                       ,\n",
                "        ws_ship_cdemo_sk          integer                       ,\n",
                "        ws_ship_hdemo_sk          integer                       ,\n",
                "        ws_ship_addr_sk           integer                       ,\n",
                "        ws_web_page_sk            integer                       ,\n",
                "        ws_web_site_sk            integer                       ,\n",
                "        ws_ship_mode_sk           integer                       ,\n",
                "        ws_warehouse_sk           integer                       ,\n",
                "        ws_promo_sk               integer                       ,\n",
                "        ws_order_number           integer               not null,\n",
                "        ws_quantity               integer                       ,\n",
                "        ws_wholesale_cost         decimal(7,2)                  ,\n",
                "        ws_list_price             decimal(7,2)                  ,\n",
                "        ws_sales_price            decimal(7,2)                  ,\n",
                "        ws_ext_discount_amt       decimal(7,2)                  ,\n",
                "        ws_ext_sales_price        decimal(7,2)                  ,\n",
                "        ws_ext_wholesale_cost     decimal(7,2)                  ,\n",
                "        ws_ext_list_price         decimal(7,2)                  ,\n",
                "        ws_ext_tax                decimal(7,2)                  ,\n",
                "        ws_coupon_amt             decimal(7,2)                  ,\n",
                "        ws_ext_ship_cost          decimal(7,2)                  ,\n",
                "        ws_net_paid               decimal(7,2)                  ,\n",
                "        ws_net_paid_inc_tax       decimal(7,2)                  ,\n",
                "        ws_net_paid_inc_ship      decimal(7,2)                  ,\n",
                "        ws_net_paid_inc_ship_tax  decimal(7,2)                  ,\n",
                "        ws_net_profit             decimal(7,2)                  \n",
                "\t)\n",
                "\tLOCATION '[DELTA_TABLE_LOCATION]'\n",
                "\"\"\"\n",
                "\n",
                "fn_process_data (file_name, table_name, dataframe_schema, delta_table_definition)"
            ],
            "metadata": {
                "jupyter": {
                    "source_hidden": false,
                    "outputs_hidden": false
                },
                "nteract": {
                    "transient": {
                        "deleting": false
                    }
                },
                "azdata_cell_guid": "f9317c60-ebbc-46b9-b57a-0d5494086450",
                "language": "sql"
            },
            "outputs": [],
            "execution_count": null
        },
        {
            "cell_type": "code",
            "source": [
                "# web_site\n",
                "file_name = 'web_site/*.dat'\n",
                "table_name = 'web_site'\n",
                "dataframe_schema = \\\n",
                "\tStructType([ \\\n",
                "\t\t\tStructField(\"web_site_sk\", IntegerType()), \\\n",
                "\t\t\tStructField(\"web_site_id\", StringType()), \\\n",
                "\t\t\tStructField(\"web_rec_start_date\", DateType()), \\\n",
                "\t\t\tStructField(\"web_rec_end_date\", DateType()), \\\n",
                "\t\t\tStructField(\"web_name\", StringType()), \\\n",
                "\t\t\tStructField(\"web_open_date_sk\", IntegerType()), \\\n",
                "\t\t\tStructField(\"web_close_date_sk\", IntegerType()), \\\n",
                "\t\t\tStructField(\"web_class\", StringType()), \\\n",
                "\t\t\tStructField(\"web_manager\", StringType()), \\\n",
                "\t\t\tStructField(\"web_mkt_id\", IntegerType()), \\\n",
                "\t\t\tStructField(\"web_mkt_class\", StringType()), \\\n",
                "\t\t\tStructField(\"web_mkt_desc\", StringType()), \\\n",
                "\t\t\tStructField(\"web_market_manager\", StringType()), \\\n",
                "\t\t\tStructField(\"web_company_id\", IntegerType()), \\\n",
                "\t\t\tStructField(\"web_company_name\", StringType()), \\\n",
                "\t\t\tStructField(\"web_street_number\", StringType()), \\\n",
                "\t\t\tStructField(\"web_street_name\", StringType()), \\\n",
                "\t\t\tStructField(\"web_street_type\", StringType()), \\\n",
                "\t\t\tStructField(\"web_suite_number\", StringType()), \\\n",
                "\t\t\tStructField(\"web_city\", StringType()), \\\n",
                "\t\t\tStructField(\"web_county\", StringType()), \\\n",
                "\t\t\tStructField(\"web_state\", StringType()), \\\n",
                "\t\t\tStructField(\"web_zip\", StringType()), \\\n",
                "\t\t\tStructField(\"web_country\", StringType()), \\\n",
                "\t\t\tStructField(\"web_gmt_offset\", DoubleType()), \\\n",
                "\t\t\tStructField(\"web_tax_percentage\", DoubleType()) \\\n",
                "\t])\n",
                "delta_table_definition = \"\"\"\n",
                "CREATE TABLE web_site\n",
                "\t(\n",
                "        web_site_sk               integer               not null,\n",
                "        web_site_id               char(16)              not null,\n",
                "        web_rec_start_date        date                          ,\n",
                "        web_rec_end_date          date                          ,\n",
                "        web_name                  varchar(50)                   ,\n",
                "        web_open_date_sk          integer                       ,\n",
                "        web_close_date_sk         integer                       ,\n",
                "        web_class                 varchar(50)                   ,\n",
                "        web_manager               varchar(40)                   ,\n",
                "        web_mkt_id                integer                       ,\n",
                "        web_mkt_class             varchar(50)                   ,\n",
                "        web_mkt_desc              varchar(100)                  ,\n",
                "        web_market_manager        varchar(40)                   ,\n",
                "        web_company_id            integer                       ,\n",
                "        web_company_name          char(50)                      ,\n",
                "        web_street_number         char(10)                      ,\n",
                "        web_street_name           varchar(60)                   ,\n",
                "        web_street_type           char(15)                      ,\n",
                "        web_suite_number          char(10)                      ,\n",
                "        web_city                  varchar(60)                   ,\n",
                "        web_county                varchar(30)                   ,\n",
                "        web_state                 char(2)                       ,\n",
                "        web_zip                   char(10)                      ,\n",
                "        web_country               varchar(20)                   ,\n",
                "        web_gmt_offset            decimal(5,2)                  ,\n",
                "        web_tax_percentage        decimal(5,2)                  \n",
                "\t)\n",
                "\tLOCATION '[DELTA_TABLE_LOCATION]'\n",
                "\"\"\"\n",
                "\n",
                "fn_process_data (file_name, table_name, dataframe_schema, delta_table_definition)"
            ],
            "metadata": {
                "jupyter": {
                    "source_hidden": false,
                    "outputs_hidden": false
                },
                "nteract": {
                    "transient": {
                        "deleting": false
                    }
                },
                "azdata_cell_guid": "a37ed4c1-bfdb-42f8-8c96-3a4531478968",
                "language": "sql"
            },
            "outputs": [],
            "execution_count": null
        }
    ]
}