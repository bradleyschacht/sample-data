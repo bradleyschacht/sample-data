{
    "metadata": {
        "kernelspec": {
            "name": "SQL",
            "display_name": "SQL",
            "language": "sql"
        },
        "language_info": {
            "name": "sql",
            "version": ""
        },
        "widgets": {},
        "kernel_info": {
            "name": "synapse_pyspark"
        },
        "save_output": true,
        "spark_compute": {
            "compute_id": "/trident/default",
            "session_options": {
                "enableDebugMode": false,
                "conf": {}
            }
        },
        "notebook_environment": {},
        "synapse_widget": {
            "version": "0.1",
            "state": {}
        },
        "trident": {
            "lakehouse": {
                "default_lakehouse": "36939307-1d5c-4acc-a5d3-a7179bca5457",
                "known_lakehouses": [
                    {
                        "id": "36939307-1d5c-4acc-a5d3-a7179bca5457"
                    }
                ],
                "default_lakehouse_name": "Sample",
                "default_lakehouse_workspace_id": "99d095b9-f3d7-4a85-a541-d9f52d97ca73"
            }
        }
    },
    "nbformat_minor": 2,
    "nbformat": 4,
    "cells": [
        {
            "cell_type": "markdown",
            "source": [
                "# The setup"
            ],
            "metadata": {
                "nteract": {
                    "transient": {
                        "deleting": false
                    }
                },
                "azdata_cell_guid": "ec3fda08-0b2f-418c-a563-45500a6601c5"
            }
        },
        {
            "cell_type": "code",
            "source": [
                "#Define the variables.\r\n",
                "data_directory_clean =  'Files/sampledata/Data/Wide World Importers/Clean/'\r\n",
                "azure_sql_url = \"jdbc:sqlserver://servername.database.windows.net\"\r\n",
                "database_name = \"WideWorldImporters\"\r\n",
                "db_username = ''\r\n",
                "db_password = ''"
            ],
            "metadata": {
                "jupyter": {
                    "source_hidden": false,
                    "outputs_hidden": false
                },
                "nteract": {
                    "transient": {
                        "deleting": false
                    }
                },
                "azdata_cell_guid": "8d7a82e6-8d0b-4665-a3ef-3f8045dfdf1b",
                "language": "sql"
            },
            "outputs": [],
            "execution_count": null
        },
        {
            "cell_type": "markdown",
            "source": [
                "# Process the data"
            ],
            "metadata": {
                "nteract": {
                    "transient": {
                        "deleting": false
                    }
                },
                "azdata_cell_guid": "05fc82ca-50de-40d2-b684-31adb5805270"
            }
        },
        {
            "cell_type": "code",
            "source": [
                "def fn_write_data (table_name, query, number_of_partitions):\r\n",
                "    \r\n",
                "    destination_directory_delta = f'{data_directory_clean}/Delta/{table_name}'\r\n",
                "    destination_directory_json = f'{data_directory_clean}/JSON/{table_name}'\r\n",
                "    destination_directory_parquet = f'{data_directory_clean}/Parquet/{table_name}'\r\n",
                "\r\n",
                "    #Read the files.\r\n",
                "    df = spark.read \\\r\n",
                "        .format(\"com.microsoft.sqlserver.jdbc.spark\") \\\r\n",
                "        .option(\"url\", azure_sql_url) \\\r\n",
                "        .option(\"query\", query) \\\r\n",
                "        .option(\"databaseName\", database_name) \\\r\n",
                "        .option(\"username\", db_username) \\\r\n",
                "        .option(\"password\", db_password) \\\r\n",
                "        .option(\"encrypt\", \"true\") \\\r\n",
                "        .option(\"hostNameInCertificate\", \"*.database.windows.net\") \\\r\n",
                "        .load()\r\n",
                "\r\n",
                "    print ('Source File: ' + table_name)\r\n",
                "\r\n",
                "    #Create the delta table.\r\n",
                "    df.write.mode('overwrite').option('overwriteSchema', 'true').format(\"Delta\").save(destination_directory_delta)\r\n",
                "    print ('Creating Delta Table Complete: ' + table_name)\r\n",
                "\r\n",
                "    #Create the JSON files.\r\n",
                "    if number_of_partitions == 0:\r\n",
                "        df.write.mode('overwrite').json(destination_directory_json)\r\n",
                "    else:\r\n",
                "        df.repartition(number_of_partitions).write.mode('overwrite').json(destination_directory_json)\r\n",
                "    print ('Creating JSON File Complete: ' + table_name)\r\n",
                "    \r\n",
                "    #Create the Parquet files.\r\n",
                "    if number_of_partitions == 0:\r\n",
                "        df.write.mode('overwrite').parquet(destination_directory_parquet)\r\n",
                "    else:\r\n",
                "        df.repartition(number_of_partitions).write.mode('overwrite').parquet(destination_directory_parquet)\r\n",
                "    print ('Creating Parquet File Complete: ' + table_name)\r\n",
                "    print ('')"
            ],
            "metadata": {
                "jupyter": {
                    "source_hidden": false,
                    "outputs_hidden": false
                },
                "nteract": {
                    "transient": {
                        "deleting": false
                    }
                },
                "azdata_cell_guid": "b1fc4e7c-2d6a-4b9a-8d5e-2d6b3f4a0010",
                "language": "sql"
            },
            "outputs": [],
            "execution_count": null
        },
        {
            "cell_type": "code",
            "source": [
                "table_list = [(\"Application_TransactionTypes\", \"SELECT * FROM [Application].[TransactionTypes]\"),\r\n",
                "(\"Application_SystemParameters\", \"SELECT * FROM [Application].[SystemParameters]\"),\r\n",
                "(\"Purchasing_PurchaseOrderLines\", \"SELECT * FROM [Purchasing].[PurchaseOrderLines]\"),\r\n",
                "(\"Purchasing_PurchaseOrders\", \"SELECT * FROM [Purchasing].[PurchaseOrders]\"),\r\n",
                "(\"Purchasing_Suppliers\", \"SELECT * FROM [Purchasing].[Suppliers]\"),\r\n",
                "(\"Purchasing_SupplierTransactions\", \"SELECT * FROM [Purchasing].[SupplierTransactions]\"),\r\n",
                "(\"Sales_OrderLines\", \"SELECT * FROM [Sales].[OrderLines]\"),\r\n",
                "(\"Sales_Orders\", \"SELECT * FROM [Sales].[Orders]\"),\r\n",
                "(\"Sales_BuyingGroups\", \"SELECT * FROM [Sales].[BuyingGroups]\"),\r\n",
                "(\"Sales_CustomerTransactions\", \"SELECT * FROM [Sales].[CustomerTransactions]\"),\r\n",
                "(\"Sales_SpecialDeals\", \"SELECT * FROM [Sales].[SpecialDeals]\"),\r\n",
                "(\"Sales_CustomerCategories\", \"SELECT * FROM [Sales].[CustomerCategories]\"),\r\n",
                "(\"Sales_InvoiceLines\", \"SELECT * FROM [Sales].[InvoiceLines]\"),\r\n",
                "(\"Sales_Invoices\", \"SELECT * FROM [Sales].[Invoices]\"),\r\n",
                "(\"Warehouse_StockItemStockGroups\", \"SELECT * FROM [Warehouse].[StockItemStockGroups]\"),\r\n",
                "(\"Warehouse_VehicleTemperatures\", \"SELECT * FROM [Warehouse].[VehicleTemperatures]\"),\r\n",
                "(\"Warehouse_StockItemTransactions\", \"SELECT * FROM [Warehouse].[StockItemTransactions]\"),\r\n",
                "(\"Warehouse_PackageTypes\", \"SELECT * FROM [Warehouse].[PackageTypes]\"),\r\n",
                "(\"Warehouse_StockItemHoldings\", \"SELECT * FROM [Warehouse].[StockItemHoldings]\"),\r\n",
                "(\"Warehouse_ColdRoomTemperatures\", \"SELECT * FROM [Warehouse].[ColdRoomTemperatures]\"),\r\n",
                "(\"Warehouse_StockItems\", \"SELECT * FROM [Warehouse].[StockItems]\"),\r\n",
                "(\"Application_People\", \"SELECT * FROM [Application].[People]\"),\r\n",
                "(\"Application_PaymentMethods\", \"SELECT * FROM [Application].[PaymentMethods]\"),\r\n",
                "(\"Application_DeliveryMethods\", \"SELECT * FROM [Application].[DeliveryMethods]\"),\r\n",
                "(\"Application_StateProvinces\", \"SELECT * FROM [Application].[StateProvinces]\"),\r\n",
                "(\"Application_Cities\", \"SELECT * FROM [Application].[Cities]\"),\r\n",
                "(\"Application_Countries\", \"SELECT * FROM [Application].[Countries]\"),\r\n",
                "(\"Purchasing_SupplierCategories\", \"SELECT * FROM [Purchasing].[SupplierCategories]\"),\r\n",
                "(\"Sales_Customers\", \"SELECT * FROM [Sales].[Customers]\"),\r\n",
                "(\"Warehouse_Colors\", \"SELECT * FROM [Warehouse].[Colors]\"),\r\n",
                "(\"Warehouse_StockGroups\", \"SELECT * FROM [Warehouse].[StockGroups]\")]"
            ],
            "metadata": {
                "jupyter": {
                    "source_hidden": false,
                    "outputs_hidden": false
                },
                "nteract": {
                    "transient": {
                        "deleting": false
                    }
                },
                "azdata_cell_guid": "fb2a20cf-3747-49ed-ab4c-51fa218a1c09",
                "language": "sql"
            },
            "outputs": [],
            "execution_count": null
        },
        {
            "cell_type": "code",
            "source": [
                "for table in table_list:\r\n",
                "    fn_write_data (table[0], table[1], 0)"
            ],
            "metadata": {
                "jupyter": {
                    "source_hidden": false,
                    "outputs_hidden": false
                },
                "nteract": {
                    "transient": {
                        "deleting": false
                    }
                },
                "azdata_cell_guid": "bf6701ca-6d34-4903-bb0b-b3c07333ec89",
                "language": "sql"
            },
            "outputs": [],
            "execution_count": null
        }
    ]
}