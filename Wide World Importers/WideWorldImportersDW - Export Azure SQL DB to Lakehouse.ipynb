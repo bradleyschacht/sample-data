{
    "metadata": {
        "kernelspec": {
            "name": "SQL",
            "display_name": "SQL",
            "language": "sql"
        },
        "language_info": {
            "name": "sql",
            "version": ""
        },
        "widgets": {},
        "kernel_info": {
            "name": "synapse_pyspark"
        },
        "save_output": true,
        "spark_compute": {
            "compute_id": "/trident/default",
            "session_options": {
                "enableDebugMode": false,
                "conf": {}
            }
        },
        "notebook_environment": {},
        "synapse_widget": {
            "version": "0.1",
            "state": {}
        },
        "trident": {
            "lakehouse": {
                "default_lakehouse": "36939307-1d5c-4acc-a5d3-a7179bca5457",
                "known_lakehouses": [
                    {
                        "id": "36939307-1d5c-4acc-a5d3-a7179bca5457"
                    }
                ],
                "default_lakehouse_name": "Sample",
                "default_lakehouse_workspace_id": "99d095b9-f3d7-4a85-a541-d9f52d97ca73"
            }
        }
    },
    "nbformat_minor": 2,
    "nbformat": 4,
    "cells": [
        {
            "cell_type": "markdown",
            "source": [
                "# The setup"
            ],
            "metadata": {
                "nteract": {
                    "transient": {
                        "deleting": false
                    }
                },
                "azdata_cell_guid": "9fb294d5-2235-4bfc-8dda-6564ce7c1cd1"
            }
        },
        {
            "cell_type": "code",
            "source": [
                "#Define the variables.\r\n",
                "data_directory_clean =  'Files/sampledata/Data/Wide World Importers DW/Clean/'\r\n",
                "azure_sql_url = \"jdbc:sqlserver://servername.database.windows.net\"\r\n",
                "database_name = \"WideWorldImportersDW\"\r\n",
                "db_username = ''\r\n",
                "db_password = ''"
            ],
            "metadata": {
                "jupyter": {
                    "source_hidden": false,
                    "outputs_hidden": false
                },
                "nteract": {
                    "transient": {
                        "deleting": false
                    }
                },
                "azdata_cell_guid": "6639b0ce-5e85-42d1-b33e-3fb7346b0d24",
                "language": "sql"
            },
            "outputs": [],
            "execution_count": null
        },
        {
            "cell_type": "markdown",
            "source": [
                "# Process the data"
            ],
            "metadata": {
                "nteract": {
                    "transient": {
                        "deleting": false
                    }
                },
                "azdata_cell_guid": "de4c0c3f-56dd-4035-9d67-17bbfb05ffa7"
            }
        },
        {
            "cell_type": "code",
            "source": [
                "def fn_write_data (table_name, query, number_of_partitions):\r\n",
                "    \r\n",
                "    destination_directory_delta = f'{data_directory_clean}/Delta/{table_name}'\r\n",
                "    destination_directory_json = f'{data_directory_clean}/JSON/{table_name}'\r\n",
                "    destination_directory_parquet = f'{data_directory_clean}/Parquet/{table_name}'\r\n",
                "\r\n",
                "    #Read the files.\r\n",
                "    df = spark.read \\\r\n",
                "        .format(\"com.microsoft.sqlserver.jdbc.spark\") \\\r\n",
                "        .option(\"url\", azure_sql_url) \\\r\n",
                "        .option(\"query\", query) \\\r\n",
                "        .option(\"databaseName\", database_name) \\\r\n",
                "        .option(\"username\", db_username) \\\r\n",
                "        .option(\"password\", db_password) \\\r\n",
                "        .option(\"encrypt\", \"true\") \\\r\n",
                "        .option(\"hostNameInCertificate\", \"*.database.windows.net\") \\\r\n",
                "        .load()\r\n",
                "\r\n",
                "    print ('Source File: ' + table_name)\r\n",
                "\r\n",
                "    #Create the delta table.\r\n",
                "    df.write.mode('overwrite').option('overwriteSchema', 'true').format(\"Delta\").save(destination_directory_delta)\r\n",
                "    print ('Creating Delta Table Complete: ' + table_name)\r\n",
                "\r\n",
                "    #Create the JSON files.\r\n",
                "    if number_of_partitions == 0:\r\n",
                "        df.write.mode('overwrite').json(destination_directory_json)\r\n",
                "    else:\r\n",
                "        df.repartition(number_of_partitions).write.mode('overwrite').json(destination_directory_json)\r\n",
                "    print ('Creating JSON File Complete: ' + table_name)\r\n",
                "    \r\n",
                "    #Create the Parquet files.\r\n",
                "    if number_of_partitions == 0:\r\n",
                "        df.write.mode('overwrite').parquet(destination_directory_parquet)\r\n",
                "    else:\r\n",
                "        df.repartition(number_of_partitions).write.mode('overwrite').parquet(destination_directory_parquet)\r\n",
                "    print ('Creating Parquet File Complete: ' + table_name)\r\n",
                "    print ('')"
            ],
            "metadata": {
                "jupyter": {
                    "source_hidden": false,
                    "outputs_hidden": false
                },
                "nteract": {
                    "transient": {
                        "deleting": false
                    }
                },
                "azdata_cell_guid": "8f4d5906-55dc-433f-a14b-f3f2c525c45f",
                "language": "sql"
            },
            "outputs": [],
            "execution_count": null
        },
        {
            "cell_type": "code",
            "source": [
                "table_list = [(\"DimCity\", \"SELECT \\\r\n",
                "    [City Key] AS [CityKey], \\\r\n",
                "\t[WWI City ID] AS [WWICityID], \\\r\n",
                "\t[City] AS [City], \\\r\n",
                "\t[State Province] AS [StateProvince], \\\r\n",
                "\t[Country] AS [Country], \\\r\n",
                "\t[Continent] AS [Continent], \\\r\n",
                "\t[Sales Territory] AS [SalesTerritory], \\\r\n",
                "\t[Region] AS [Region], \\\r\n",
                "\t[Subregion] AS [Subregion], \\\r\n",
                "\tCONVERT(VARCHAR(50), [Location]) AS [Location], \\\r\n",
                "\t[Latest Recorded Population] AS [LatestRecordedPopulation], \\\r\n",
                "\t[Valid From] AS [ValidFrom], \\\r\n",
                "\t[Valid To] AS [ValidTo], \\\r\n",
                "\t[Lineage Key] AS [LineageKey] \\\r\n",
                "FROM [Dimension].[City]\"),\r\n",
                "    (\"DimCustomer\", \"SELECT \\\r\n",
                "\t[Customer Key] AS [CustomerKey],\\\r\n",
                "\t[WWI Customer ID] AS [WWICustomerID],\\\r\n",
                "\t[Customer] AS [Customer],\\\r\n",
                "\t[Bill To Customer] AS [BillToCustomer],\\\r\n",
                "\t[Category] AS [Category],\\\r\n",
                "\t[Buying Group] AS [BuyingGroup],\\\r\n",
                "\t[Primary Contact] AS [PrimaryContact],\\\r\n",
                "\t[Postal Code] AS [PostalCode],\\\r\n",
                "\t[Valid From] AS [ValidFrom],\\\r\n",
                "\t[Valid To] AS [ValidTo],\\\r\n",
                "\t[Lineage Key] AS [LineageKey]\\\r\n",
                "FROM [Dimension].[Customer]\"),\r\n",
                "    (\"DimDate\", \"SELECT \\\r\n",
                "\t[Date] AS [Date],\\\r\n",
                "\t[Day Number] AS [DayNumber],\\\r\n",
                "\t[Day] AS [Day],\\\r\n",
                "\t[Month] AS [Month],\\\r\n",
                "\t[Short Month] AS [ShortMonth],\\\r\n",
                "\t[Calendar Month Number] AS [CalendarMonthNumber],\\\r\n",
                "\t[Calendar Month Label] AS [CalendarMonthLabel],\\\r\n",
                "\t[Calendar Year] AS [CalendarYear],\\\r\n",
                "\t[Calendar Year Label] AS [CalendarYearLabel],\\\r\n",
                "\t[Fiscal Month Number] AS [FiscalMonthNumber],\\\r\n",
                "\t[Fiscal Month Label] AS [FiscalMonthLabel],\\\r\n",
                "\t[Fiscal Year] AS [FiscalYear],\\\r\n",
                "\t[Fiscal Year Label] AS [FiscalYearLabel],\\\r\n",
                "\t[ISO Week Number] AS [ISOWeekNumber]\\\r\n",
                "FROM [Dimension].[Date]\"),\r\n",
                "    (\"DimEmployee\", \"SELECT \\\r\n",
                "\t[Employee Key] AS [EmployeeKey],\\\r\n",
                "\t[WWI Employee ID] AS [WWIEmployeeID],\\\r\n",
                "\t[Employee] AS [Employee],\\\r\n",
                "\t[Preferred Name] AS [PreferredName],\\\r\n",
                "\t[Is Salesperson] AS [IsSalesperson],\\\r\n",
                "\t/*[Photo] AS [Photo],*/\\\r\n",
                "\t[Valid From] AS [ValidFrom],\\\r\n",
                "\t[Valid To] AS [ValidTo],\\\r\n",
                "\t[Lineage Key] AS [LineageKey]\\\r\n",
                "FROM [Dimension].[Employee]\"),\r\n",
                "    (\"DimPaymentMethod\", \"SELECT \\\r\n",
                "\t[Payment Method Key] AS [PaymentMethodKey],\\\r\n",
                "\t[WWI Payment Method ID] AS [WWIPaymentMethodID],\\\r\n",
                "\t[Payment Method] AS [PaymentMethod],\\\r\n",
                "\t[Valid From] AS [ValidFrom],\\\r\n",
                "\t[Valid To] AS [ValidTo],\\\r\n",
                "\t[Lineage Key] AS [LineageKey]\\\r\n",
                "FROM [Dimension].[Payment Method]\"),\r\n",
                "    (\"DimStockItem\", \"SELECT \\\r\n",
                "\t[Stock Item Key] AS [StockItemKey],\\\r\n",
                "\t[WWI Stock Item ID] AS [WWIStockItemID],\\\r\n",
                "\t[Stock Item] AS [StockItem],\\\r\n",
                "\t[Color] AS [Color],\\\r\n",
                "\t[Selling Package] AS [SellingPackage],\\\r\n",
                "\t[Buying Package] AS [BuyingPackage],\\\r\n",
                "\t[Brand] AS [Brand],\\\r\n",
                "\t[Size] AS [Size],\\\r\n",
                "\t[Lead Time Days] AS [LeadTimeDays],\\\r\n",
                "\t[Quantity Per Outer] AS [QuantityPerOuter],\\\r\n",
                "\t[Is Chiller Stock] AS [IsChillerStock],\\\r\n",
                "\t[Barcode] AS [Barcode],\\\r\n",
                "\t[Tax Rate] AS [TaxRate],\\\r\n",
                "\t[Unit Price] AS [UnitPrice],\\\r\n",
                "\t[Recommended Retail Price] AS [RecommendedRetailPrice],\\\r\n",
                "\t[Typical Weight Per Unit] AS [TypicalWeightPerUnit],\\\r\n",
                "\t/*[Photo] AS [Photo],*/\\\r\n",
                "\t[Valid From] AS [ValidFrom],\\\r\n",
                "\t[Valid To] AS [ValidTo],\\\r\n",
                "\t[Lineage Key] AS [LineageKey]\\\r\n",
                "FROM [Dimension].[Stock Item]\"),\r\n",
                "    (\"DimSupplier\", \"SELECT \\\r\n",
                "\t[Supplier Key] AS [SupplierKey],\\\r\n",
                "\t[WWI Supplier ID] AS [WWISupplierID],\\\r\n",
                "\t[Supplier] AS [Supplier],\\\r\n",
                "\t[Category] AS [Category],\\\r\n",
                "\t[Primary Contact] AS [PrimaryContact],\\\r\n",
                "\t[Supplier Reference] AS [SupplierReference],\\\r\n",
                "\t[Payment Days] AS [PaymentDays],\\\r\n",
                "\t[Postal Code] AS [PostalCode],\\\r\n",
                "\t[Valid From] AS [ValidFrom],\\\r\n",
                "\t[Valid To] AS [ValidTo],\\\r\n",
                "\t[Lineage Key] AS [LineageKey]\\\r\n",
                "FROM [Dimension].[Supplier]\"),\r\n",
                "    (\"DimTransactionType\", \"SELECT \\\r\n",
                "\t[Transaction Type Key] AS [TransactionTypeKey],\\\r\n",
                "\t[WWI Transaction Type ID] AS [WWITransactionTypeID],\\\r\n",
                "\t[Transaction Type] AS [TransactionType],\\\r\n",
                "\t[Valid From] AS [ValidFrom],\\\r\n",
                "\t[Valid To] AS [ValidTo],\\\r\n",
                "\t[Lineage Key] AS [LineageKey]\\\r\n",
                "FROM [Dimension].[Transaction Type]\"),\r\n",
                "    (\"FactMovement\", \"SELECT \\\r\n",
                "\t[Movement Key] AS [MovementKey],\\\r\n",
                "\t[Date Key] AS [DateKey],\\\r\n",
                "\t[Stock Item Key] AS [StockItemKey],\\\r\n",
                "\t[Customer Key] AS [CustomerKey],\\\r\n",
                "\t[Supplier Key] AS [SupplierKey],\\\r\n",
                "\t[Transaction Type Key] AS [TransactionTypeKey],\\\r\n",
                "\t[WWI Stock Item Transaction ID] AS [WWIStockItemTransactionID],\\\r\n",
                "\t[WWI Invoice ID] AS [WWIInvoiceID],\\\r\n",
                "\t[WWI Purchase Order ID] AS [WWIPurchaseOrderID],\\\r\n",
                "\t[Quantity] AS [Quantity],\\\r\n",
                "\t[Lineage Key] AS [LineageKey]\\\r\n",
                "FROM [Fact].[Movement]\"),\r\n",
                "    (\"FactOrder\", \"SELECT \\\r\n",
                "\t[Order Key] AS [OrderKey],\\\r\n",
                "\t[City Key] AS [CityKey],\\\r\n",
                "\t[Customer Key] AS [CustomerKey],\\\r\n",
                "\t[Stock Item Key] AS [StockItemKey],\\\r\n",
                "\t[Order Date Key] AS [OrderDateKey],\\\r\n",
                "\t[Picked Date Key] AS [PickedDateKey],\\\r\n",
                "\t[Salesperson Key] AS [SalespersonKey],\\\r\n",
                "\t[Picker Key] AS [PickerKey],\\\r\n",
                "\t[WWI Order ID] AS [WWIOrderID],\\\r\n",
                "\t[WWI Backorder ID] AS [WWIBackorderID],\\\r\n",
                "\t[Description] AS [Description],\\\r\n",
                "\t[Package] AS [Package],\\\r\n",
                "\t[Quantity] AS [Quantity],\\\r\n",
                "\t[Unit Price] AS [UnitPrice],\\\r\n",
                "\t[Tax Rate] AS [TaxRate],\\\r\n",
                "\t[Total Excluding Tax] AS [TotalExcludingTax],\\\r\n",
                "\t[Tax Amount] AS [TaxAmount],\\\r\n",
                "\t[Total Including Tax] AS [TotalIncludingTax],\\\r\n",
                "\t[Lineage Key] AS [LineageKey]\\\r\n",
                "FROM [Fact].[Order]\"),\r\n",
                "    (\"FactPurchase\", \"SELECT \\\r\n",
                "\t[Purchase Key] AS [PurchaseKey],\\\r\n",
                "\t[Date Key] AS [DateKey],\\\r\n",
                "\t[Supplier Key] AS [SupplierKey],\\\r\n",
                "\t[Stock Item Key] AS [StockItemKey],\\\r\n",
                "\t[WWI Purchase Order ID] AS [WWIPurchaseOrderID],\\\r\n",
                "\t[Ordered Outers] AS [OrderedOuters],\\\r\n",
                "\t[Ordered Quantity] AS [OrderedQuantity],\\\r\n",
                "\t[Received Outers] AS [ReceivedOuters],\\\r\n",
                "\t[Package] AS [Package],\\\r\n",
                "\t[Is Order Finalized] AS [IsOrderFinalized],\\\r\n",
                "\t[Lineage Key] AS [LineageKey]\\\r\n",
                "FROM [Fact].[Purchase]\"),\r\n",
                "    (\"FactSale\", \"SELECT \\\r\n",
                "\t[Sale Key] AS [SaleKey],\\\r\n",
                "\t[City Key] AS [CityKey],\\\r\n",
                "\t[Customer Key] AS [CustomerKey],\\\r\n",
                "\t[Bill To Customer Key] AS [BillToCustomerKey],\\\r\n",
                "\t[Stock Item Key] AS [StockItemKey],\\\r\n",
                "\t[Invoice Date Key] AS [InvoiceDateKey],\\\r\n",
                "\t[Delivery Date Key] AS [DeliveryDateKey],\\\r\n",
                "\t[Salesperson Key] AS [SalespersonKey],\\\r\n",
                "\t[WWI Invoice ID] AS [WWIInvoiceID],\\\r\n",
                "\t[Description] AS [Description],\\\r\n",
                "\t[Package] AS [Package],\\\r\n",
                "\t[Quantity] AS [Quantity],\\\r\n",
                "\t[Unit Price] AS [UnitPrice],\\\r\n",
                "\t[Tax Rate] AS [TaxRate],\\\r\n",
                "\t[Total Excluding Tax] AS [TotalExcludingTax],\\\r\n",
                "\t[Tax Amount] AS [TaxAmount],\\\r\n",
                "\t[Profit] AS [Profit],\\\r\n",
                "\t[Total Including Tax] AS [TotalIncludingTax],\\\r\n",
                "\t[Total Dry Items] AS [TotalDryItems],\\\r\n",
                "\t[Total Chiller Items] AS [TotalChillerItems],\\\r\n",
                "\t[Lineage Key] AS [LineageKey]\\\r\n",
                "FROM [Fact].[Sale]\"),\r\n",
                "    (\"FactStockHolding\", \"SELECT \\\r\n",
                "\t[Stock Holding Key] AS [StockHoldingKey],\\\r\n",
                "\t[Stock Item Key] AS [StockItemKey],\\\r\n",
                "\t[Quantity On Hand] AS [QuantityOnHand],\\\r\n",
                "\t[Bin Location] AS [BinLocation],\\\r\n",
                "\t[Last Stocktake Quantity] AS [LastStocktakeQuantity],\\\r\n",
                "\t[Last Cost Price] AS [LastCostPrice],\\\r\n",
                "\t[Reorder Level] AS [ReorderLevel],\\\r\n",
                "\t[Target Stock Level] AS [TargetStockLevel],\\\r\n",
                "\t[Lineage Key] AS [LineageKey]\\\r\n",
                "FROM [Fact].[Stock Holding]\"),\r\n",
                "    (\"FactTransaction\", \"SELECT \\\r\n",
                "\t[Transaction Key] AS [TransactionKey],\\\r\n",
                "\t[Date Key] AS [DateKey],\\\r\n",
                "\t[Customer Key] AS [CustomerKey],\\\r\n",
                "\t[Bill To Customer Key] AS [BillToCustomerKey],\\\r\n",
                "\t[Supplier Key] AS [SupplierKey],\\\r\n",
                "\t[Transaction Type Key] AS [TransactionTypeKey],\\\r\n",
                "\t[Payment Method Key] AS [PaymentMethodKey],\\\r\n",
                "\t[WWI Customer Transaction ID] AS [WWICustomerTransactionID],\\\r\n",
                "\t[WWI Supplier Transaction ID] AS [WWISupplierTransactionID],\\\r\n",
                "\t[WWI Invoice ID] AS [WWIInvoiceID],\\\r\n",
                "\t[WWI Purchase Order ID] AS [WWIPurchaseOrderID],\\\r\n",
                "\t[Supplier Invoice Number] AS [SupplierInvoiceNumber],\\\r\n",
                "\t[Total Excluding Tax] AS [TotalExcludingTax],\\\r\n",
                "\t[Tax Amount] AS [TaxAmount],\\\r\n",
                "\t[Total Including Tax] AS [TotalIncludingTax],\\\r\n",
                "\t[Outstanding Balance] AS [OutstandingBalance],\\\r\n",
                "\t[Is Finalized] AS [IsFinalized],\\\r\n",
                "\t[Lineage Key] AS [LineageKey]\\\r\n",
                "FROM [Fact].[Transaction]\")\r\n",
                "    ]"
            ],
            "metadata": {
                "jupyter": {
                    "source_hidden": false,
                    "outputs_hidden": false
                },
                "nteract": {
                    "transient": {
                        "deleting": false
                    }
                },
                "azdata_cell_guid": "bfbebc0a-b3b2-445c-9cd1-b1fe8b3a84ca",
                "language": "sql"
            },
            "outputs": [],
            "execution_count": null
        },
        {
            "cell_type": "code",
            "source": [
                "for table in table_list:\r\n",
                "    fn_write_data (table[0], table[1], 0)"
            ],
            "metadata": {
                "jupyter": {
                    "source_hidden": false,
                    "outputs_hidden": false
                },
                "nteract": {
                    "transient": {
                        "deleting": false
                    }
                },
                "azdata_cell_guid": "b475d449-d6fb-40dd-8035-12fcc393ca64",
                "language": "sql"
            },
            "outputs": [],
            "execution_count": null
        }
    ]
}